{
 "cells": [
  {
   "cell_type": "markdown",
   "id": "67377aab",
   "metadata": {},
   "source": [
    "# TEXT ANALYTICS"
   ]
  },
  {
   "cell_type": "markdown",
   "id": "65d36206",
   "metadata": {},
   "source": [
    "Movie-'Tu Jhoothi Main Makkaar'"
   ]
  },
  {
   "cell_type": "markdown",
   "id": "863d4416",
   "metadata": {},
   "source": [
    "The data is extracted from different websites like google, imdb and rotten tomatoes.The data was scraped from these websites using a scraper which goes by the name 'instant data scraper'.It is a plugin/extension which is available in google chrome.It extracted the reviews from these websites and converted those into a csv file which is further used to carry out analytics and processing on the textual data."
   ]
  },
  {
   "cell_type": "markdown",
   "id": "9a26a2c4",
   "metadata": {},
   "source": [
    "# 1.Data Extraction"
   ]
  },
  {
   "cell_type": "code",
   "execution_count": 204,
   "id": "79bcd76e",
   "metadata": {},
   "outputs": [],
   "source": [
    "import numpy as np\n",
    "import pandas as pd\n",
    "import seaborn as sns\n",
    "import matplotlib.pyplot as plt\n",
    "import requests\n",
    "from bs4 import BeautifulSoup\n",
    "import os\n",
    "%matplotlib inline\n",
    "import warnings\n",
    "warnings.filterwarnings(action='ignore')"
   ]
  },
  {
   "cell_type": "code",
   "execution_count": 430,
   "id": "ec582274",
   "metadata": {},
   "outputs": [],
   "source": [
    "#pd.set_option('display.max_colwidth',50) #to display full text in a row\n",
    "#pd.options.display.max_rows=None  #to display all rows"
   ]
  },
  {
   "cell_type": "code",
   "execution_count": 206,
   "id": "fd780232",
   "metadata": {},
   "outputs": [
    {
     "data": {
      "text/html": [
       "<div>\n",
       "<style scoped>\n",
       "    .dataframe tbody tr th:only-of-type {\n",
       "        vertical-align: middle;\n",
       "    }\n",
       "\n",
       "    .dataframe tbody tr th {\n",
       "        vertical-align: top;\n",
       "    }\n",
       "\n",
       "    .dataframe thead th {\n",
       "        text-align: right;\n",
       "    }\n",
       "</style>\n",
       "<table border=\"1\" class=\"dataframe\">\n",
       "  <thead>\n",
       "    <tr style=\"text-align: right;\">\n",
       "      <th></th>\n",
       "      <th>Reviews</th>\n",
       "    </tr>\n",
       "  </thead>\n",
       "  <tbody>\n",
       "    <tr>\n",
       "      <th>0</th>\n",
       "      <td>It is a great movie you can enjoy with family ...</td>\n",
       "    </tr>\n",
       "    <tr>\n",
       "      <th>1</th>\n",
       "      <td>4/5 - Ranbir kapoor is made for these kinda ro...</td>\n",
       "    </tr>\n",
       "    <tr>\n",
       "      <th>2</th>\n",
       "      <td>Ignore these cringe south movie lover negative...</td>\n",
       "    </tr>\n",
       "    <tr>\n",
       "      <th>3</th>\n",
       "      <td>This is how movies should make you feel - “Ent...</td>\n",
       "    </tr>\n",
       "    <tr>\n",
       "      <th>4</th>\n",
       "      <td>I loved watching Dimple Kapadiaji as Mom, she ...</td>\n",
       "    </tr>\n",
       "    <tr>\n",
       "      <th>...</th>\n",
       "      <td>...</td>\n",
       "    </tr>\n",
       "    <tr>\n",
       "      <th>1433</th>\n",
       "      <td>Don't listen to the reviews. Should watch it. ...</td>\n",
       "    </tr>\n",
       "    <tr>\n",
       "      <th>1434</th>\n",
       "      <td>Watching this movie is such a TORTURE !! Peopl...</td>\n",
       "    </tr>\n",
       "    <tr>\n",
       "      <th>1435</th>\n",
       "      <td>The movie was a beautiful love letter to its g...</td>\n",
       "    </tr>\n",
       "    <tr>\n",
       "      <th>1436</th>\n",
       "      <td>Very emotional and really enjoyed. Message was...</td>\n",
       "    </tr>\n",
       "    <tr>\n",
       "      <th>1437</th>\n",
       "      <td>The locations used in the movie are picturesqu...</td>\n",
       "    </tr>\n",
       "  </tbody>\n",
       "</table>\n",
       "<p>1438 rows × 1 columns</p>\n",
       "</div>"
      ],
      "text/plain": [
       "                                                Reviews\n",
       "0     It is a great movie you can enjoy with family ...\n",
       "1     4/5 - Ranbir kapoor is made for these kinda ro...\n",
       "2     Ignore these cringe south movie lover negative...\n",
       "3     This is how movies should make you feel - “Ent...\n",
       "4     I loved watching Dimple Kapadiaji as Mom, she ...\n",
       "...                                                 ...\n",
       "1433  Don't listen to the reviews. Should watch it. ...\n",
       "1434  Watching this movie is such a TORTURE !! Peopl...\n",
       "1435  The movie was a beautiful love letter to its g...\n",
       "1436  Very emotional and really enjoyed. Message was...\n",
       "1437  The locations used in the movie are picturesqu...\n",
       "\n",
       "[1438 rows x 1 columns]"
      ]
     },
     "execution_count": 206,
     "metadata": {},
     "output_type": "execute_result"
    }
   ],
   "source": [
    "df1=pd.read_csv(\"C:\\\\Users\\\\dalal\\\\Downloads\\\\google.csv\")\n",
    "df1"
   ]
  },
  {
   "cell_type": "code",
   "execution_count": 207,
   "id": "0405fc5c",
   "metadata": {},
   "outputs": [
    {
     "data": {
      "text/html": [
       "<div>\n",
       "<style scoped>\n",
       "    .dataframe tbody tr th:only-of-type {\n",
       "        vertical-align: middle;\n",
       "    }\n",
       "\n",
       "    .dataframe tbody tr th {\n",
       "        vertical-align: top;\n",
       "    }\n",
       "\n",
       "    .dataframe thead th {\n",
       "        text-align: right;\n",
       "    }\n",
       "</style>\n",
       "<table border=\"1\" class=\"dataframe\">\n",
       "  <thead>\n",
       "    <tr style=\"text-align: right;\">\n",
       "      <th></th>\n",
       "      <th>Reviews</th>\n",
       "    </tr>\n",
       "  </thead>\n",
       "  <tbody>\n",
       "    <tr>\n",
       "      <th>0</th>\n",
       "      <td>\"Tu Jhoothi Main Makkaar\" is a film that promi...</td>\n",
       "    </tr>\n",
       "    <tr>\n",
       "      <th>1</th>\n",
       "      <td>If this is entertaining or romantic, then I do...</td>\n",
       "    </tr>\n",
       "    <tr>\n",
       "      <th>2</th>\n",
       "      <td>Tu Jhoothi Main Makkar is two films in one, pr...</td>\n",
       "    </tr>\n",
       "    <tr>\n",
       "      <th>3</th>\n",
       "      <td>Firstly the storyline shown in trailer is abso...</td>\n",
       "    </tr>\n",
       "    <tr>\n",
       "      <th>4</th>\n",
       "      <td>Again a bakwas content. Same again monkey bala...</td>\n",
       "    </tr>\n",
       "    <tr>\n",
       "      <th>...</th>\n",
       "      <td>...</td>\n",
       "    </tr>\n",
       "    <tr>\n",
       "      <th>2202</th>\n",
       "      <td>Hi please dont waste your time on this garbage...</td>\n",
       "    </tr>\n",
       "    <tr>\n",
       "      <th>2203</th>\n",
       "      <td>Overall story was great, I really enjoyed the ...</td>\n",
       "    </tr>\n",
       "    <tr>\n",
       "      <th>2204</th>\n",
       "      <td>First thing first what pulled me to cinema to ...</td>\n",
       "    </tr>\n",
       "    <tr>\n",
       "      <th>2205</th>\n",
       "      <td>As all movies of luv ranjan, this one also fun...</td>\n",
       "    </tr>\n",
       "    <tr>\n",
       "      <th>2206</th>\n",
       "      <td>Tu Jhooti Me Makkar is a fun-filled rom-com sl...</td>\n",
       "    </tr>\n",
       "  </tbody>\n",
       "</table>\n",
       "<p>2207 rows × 1 columns</p>\n",
       "</div>"
      ],
      "text/plain": [
       "                                                Reviews\n",
       "0     \"Tu Jhoothi Main Makkaar\" is a film that promi...\n",
       "1     If this is entertaining or romantic, then I do...\n",
       "2     Tu Jhoothi Main Makkar is two films in one, pr...\n",
       "3     Firstly the storyline shown in trailer is abso...\n",
       "4     Again a bakwas content. Same again monkey bala...\n",
       "...                                                 ...\n",
       "2202  Hi please dont waste your time on this garbage...\n",
       "2203  Overall story was great, I really enjoyed the ...\n",
       "2204  First thing first what pulled me to cinema to ...\n",
       "2205  As all movies of luv ranjan, this one also fun...\n",
       "2206  Tu Jhooti Me Makkar is a fun-filled rom-com sl...\n",
       "\n",
       "[2207 rows x 1 columns]"
      ]
     },
     "execution_count": 207,
     "metadata": {},
     "output_type": "execute_result"
    }
   ],
   "source": [
    "df2=pd.read_csv(\"C:\\\\Users\\\\dalal\\\\Downloads\\\\imdb (6).csv\")\n",
    "df2"
   ]
  },
  {
   "cell_type": "code",
   "execution_count": 208,
   "id": "7e955590",
   "metadata": {},
   "outputs": [
    {
     "data": {
      "text/html": [
       "<div>\n",
       "<style scoped>\n",
       "    .dataframe tbody tr th:only-of-type {\n",
       "        vertical-align: middle;\n",
       "    }\n",
       "\n",
       "    .dataframe tbody tr th {\n",
       "        vertical-align: top;\n",
       "    }\n",
       "\n",
       "    .dataframe thead th {\n",
       "        text-align: right;\n",
       "    }\n",
       "</style>\n",
       "<table border=\"1\" class=\"dataframe\">\n",
       "  <thead>\n",
       "    <tr style=\"text-align: right;\">\n",
       "      <th></th>\n",
       "      <th>Reviews</th>\n",
       "    </tr>\n",
       "  </thead>\n",
       "  <tbody>\n",
       "    <tr>\n",
       "      <th>0</th>\n",
       "      <td>\"Tu Jhoothi Main Makkaar\" Review: A Disappoint...</td>\n",
       "    </tr>\n",
       "    <tr>\n",
       "      <th>1</th>\n",
       "      <td>Irrelevant, overacting &amp; totally senseless - i...</td>\n",
       "    </tr>\n",
       "    <tr>\n",
       "      <th>2</th>\n",
       "      <td>Comedy hits, everything else misses</td>\n",
       "    </tr>\n",
       "    <tr>\n",
       "      <th>3</th>\n",
       "      <td>Very weird all in all. Takes progress back atl...</td>\n",
       "    </tr>\n",
       "    <tr>\n",
       "      <th>4</th>\n",
       "      <td>Monkey balancing between feminism and family e...</td>\n",
       "    </tr>\n",
       "    <tr>\n",
       "      <th>...</th>\n",
       "      <td>...</td>\n",
       "    </tr>\n",
       "    <tr>\n",
       "      <th>2137</th>\n",
       "      <td>useless Movie and screenplay</td>\n",
       "    </tr>\n",
       "    <tr>\n",
       "      <th>2138</th>\n",
       "      <td>Green screen was so obvious and a lot of scene...</td>\n",
       "    </tr>\n",
       "    <tr>\n",
       "      <th>2139</th>\n",
       "      <td>Luv Ranjan and his way of presenting love from...</td>\n",
       "    </tr>\n",
       "    <tr>\n",
       "      <th>2140</th>\n",
       "      <td>For all romcom lovers</td>\n",
       "    </tr>\n",
       "    <tr>\n",
       "      <th>2141</th>\n",
       "      <td>After a long time unique dailouges in a Bollyw...</td>\n",
       "    </tr>\n",
       "  </tbody>\n",
       "</table>\n",
       "<p>2142 rows × 1 columns</p>\n",
       "</div>"
      ],
      "text/plain": [
       "                                                Reviews\n",
       "0     \"Tu Jhoothi Main Makkaar\" Review: A Disappoint...\n",
       "1     Irrelevant, overacting & totally senseless - i...\n",
       "2                   Comedy hits, everything else misses\n",
       "3     Very weird all in all. Takes progress back atl...\n",
       "4     Monkey balancing between feminism and family e...\n",
       "...                                                 ...\n",
       "2137                       useless Movie and screenplay\n",
       "2138  Green screen was so obvious and a lot of scene...\n",
       "2139  Luv Ranjan and his way of presenting love from...\n",
       "2140                              For all romcom lovers\n",
       "2141  After a long time unique dailouges in a Bollyw...\n",
       "\n",
       "[2142 rows x 1 columns]"
      ]
     },
     "execution_count": 208,
     "metadata": {},
     "output_type": "execute_result"
    }
   ],
   "source": [
    "df3=pd.read_csv(\"C:\\\\Users\\\\dalal\\\\Downloads\\\\Google 2.csv\")\n",
    "df3"
   ]
  },
  {
   "cell_type": "code",
   "execution_count": 209,
   "id": "0bb92ef4",
   "metadata": {},
   "outputs": [
    {
     "data": {
      "text/html": [
       "<div>\n",
       "<style scoped>\n",
       "    .dataframe tbody tr th:only-of-type {\n",
       "        vertical-align: middle;\n",
       "    }\n",
       "\n",
       "    .dataframe tbody tr th {\n",
       "        vertical-align: top;\n",
       "    }\n",
       "\n",
       "    .dataframe thead th {\n",
       "        text-align: right;\n",
       "    }\n",
       "</style>\n",
       "<table border=\"1\" class=\"dataframe\">\n",
       "  <thead>\n",
       "    <tr style=\"text-align: right;\">\n",
       "      <th></th>\n",
       "      <th>Reviews</th>\n",
       "    </tr>\n",
       "  </thead>\n",
       "  <tbody>\n",
       "    <tr>\n",
       "      <th>0</th>\n",
       "      <td>\"Tu Jhoothi Main Makkaar\" is a film that promi...</td>\n",
       "    </tr>\n",
       "    <tr>\n",
       "      <th>1</th>\n",
       "      <td>If this is entertaining or romantic, then I do...</td>\n",
       "    </tr>\n",
       "    <tr>\n",
       "      <th>2</th>\n",
       "      <td>Tu Jhoothi Main Makkar is two films in one, pr...</td>\n",
       "    </tr>\n",
       "    <tr>\n",
       "      <th>3</th>\n",
       "      <td>Firstly the storyline shown in trailer is abso...</td>\n",
       "    </tr>\n",
       "    <tr>\n",
       "      <th>4</th>\n",
       "      <td>Again a bakwas content. Same again monkey bala...</td>\n",
       "    </tr>\n",
       "    <tr>\n",
       "      <th>...</th>\n",
       "      <td>...</td>\n",
       "    </tr>\n",
       "    <tr>\n",
       "      <th>5782</th>\n",
       "      <td>useless Movie and screenplay</td>\n",
       "    </tr>\n",
       "    <tr>\n",
       "      <th>5783</th>\n",
       "      <td>Green screen was so obvious and a lot of scene...</td>\n",
       "    </tr>\n",
       "    <tr>\n",
       "      <th>5784</th>\n",
       "      <td>Luv Ranjan and his way of presenting love from...</td>\n",
       "    </tr>\n",
       "    <tr>\n",
       "      <th>5785</th>\n",
       "      <td>For all romcom lovers</td>\n",
       "    </tr>\n",
       "    <tr>\n",
       "      <th>5786</th>\n",
       "      <td>After a long time unique dailouges in a Bollyw...</td>\n",
       "    </tr>\n",
       "  </tbody>\n",
       "</table>\n",
       "<p>5787 rows × 1 columns</p>\n",
       "</div>"
      ],
      "text/plain": [
       "                                                Reviews\n",
       "0     \"Tu Jhoothi Main Makkaar\" is a film that promi...\n",
       "1     If this is entertaining or romantic, then I do...\n",
       "2     Tu Jhoothi Main Makkar is two films in one, pr...\n",
       "3     Firstly the storyline shown in trailer is abso...\n",
       "4     Again a bakwas content. Same again monkey bala...\n",
       "...                                                 ...\n",
       "5782                       useless Movie and screenplay\n",
       "5783  Green screen was so obvious and a lot of scene...\n",
       "5784  Luv Ranjan and his way of presenting love from...\n",
       "5785                              For all romcom lovers\n",
       "5786  After a long time unique dailouges in a Bollyw...\n",
       "\n",
       "[5787 rows x 1 columns]"
      ]
     },
     "execution_count": 209,
     "metadata": {},
     "output_type": "execute_result"
    }
   ],
   "source": [
    "df=pd.concat([df2,df1,df3],axis=0).reset_index()\n",
    "df.drop('index',axis=1,inplace=True)\n",
    "df\n"
   ]
  },
  {
   "cell_type": "markdown",
   "id": "fc5c4450",
   "metadata": {},
   "source": [
    "df1,df2 and df3 contains all the reviews extracted from the websites.These dataframes are concatenated into a single dataframe df which is a combination of all the three dataframes.df is the dataframe which will be used to carry out the analysis further."
   ]
  },
  {
   "cell_type": "code",
   "execution_count": 210,
   "id": "da4e5b44",
   "metadata": {},
   "outputs": [
    {
     "data": {
      "text/plain": [
       "5787"
      ]
     },
     "execution_count": 210,
     "metadata": {},
     "output_type": "execute_result"
    }
   ],
   "source": [
    "len(df)"
   ]
  },
  {
   "cell_type": "code",
   "execution_count": 211,
   "id": "d30ea615",
   "metadata": {},
   "outputs": [
    {
     "data": {
      "text/html": [
       "<div>\n",
       "<style scoped>\n",
       "    .dataframe tbody tr th:only-of-type {\n",
       "        vertical-align: middle;\n",
       "    }\n",
       "\n",
       "    .dataframe tbody tr th {\n",
       "        vertical-align: top;\n",
       "    }\n",
       "\n",
       "    .dataframe thead th {\n",
       "        text-align: right;\n",
       "    }\n",
       "</style>\n",
       "<table border=\"1\" class=\"dataframe\">\n",
       "  <thead>\n",
       "    <tr style=\"text-align: right;\">\n",
       "      <th></th>\n",
       "      <th>Reviews</th>\n",
       "    </tr>\n",
       "  </thead>\n",
       "  <tbody>\n",
       "    <tr>\n",
       "      <th>0</th>\n",
       "      <td>\"Tu Jhoothi Main Makkaar\" is a film that promi...</td>\n",
       "    </tr>\n",
       "    <tr>\n",
       "      <th>1</th>\n",
       "      <td>If this is entertaining or romantic, then I do...</td>\n",
       "    </tr>\n",
       "    <tr>\n",
       "      <th>2</th>\n",
       "      <td>Tu Jhoothi Main Makkar is two films in one, pr...</td>\n",
       "    </tr>\n",
       "    <tr>\n",
       "      <th>3</th>\n",
       "      <td>Firstly the storyline shown in trailer is abso...</td>\n",
       "    </tr>\n",
       "    <tr>\n",
       "      <th>4</th>\n",
       "      <td>Again a bakwas content. Same again monkey bala...</td>\n",
       "    </tr>\n",
       "    <tr>\n",
       "      <th>...</th>\n",
       "      <td>...</td>\n",
       "    </tr>\n",
       "    <tr>\n",
       "      <th>5782</th>\n",
       "      <td>useless Movie and screenplay</td>\n",
       "    </tr>\n",
       "    <tr>\n",
       "      <th>5783</th>\n",
       "      <td>Green screen was so obvious and a lot of scene...</td>\n",
       "    </tr>\n",
       "    <tr>\n",
       "      <th>5784</th>\n",
       "      <td>Luv Ranjan and his way of presenting love from...</td>\n",
       "    </tr>\n",
       "    <tr>\n",
       "      <th>5785</th>\n",
       "      <td>For all romcom lovers</td>\n",
       "    </tr>\n",
       "    <tr>\n",
       "      <th>5786</th>\n",
       "      <td>After a long time unique dailouges in a Bollyw...</td>\n",
       "    </tr>\n",
       "  </tbody>\n",
       "</table>\n",
       "<p>5787 rows × 1 columns</p>\n",
       "</div>"
      ],
      "text/plain": [
       "                                                Reviews\n",
       "0     \"Tu Jhoothi Main Makkaar\" is a film that promi...\n",
       "1     If this is entertaining or romantic, then I do...\n",
       "2     Tu Jhoothi Main Makkar is two films in one, pr...\n",
       "3     Firstly the storyline shown in trailer is abso...\n",
       "4     Again a bakwas content. Same again monkey bala...\n",
       "...                                                 ...\n",
       "5782                       useless Movie and screenplay\n",
       "5783  Green screen was so obvious and a lot of scene...\n",
       "5784  Luv Ranjan and his way of presenting love from...\n",
       "5785                              For all romcom lovers\n",
       "5786  After a long time unique dailouges in a Bollyw...\n",
       "\n",
       "[5787 rows x 1 columns]"
      ]
     },
     "execution_count": 211,
     "metadata": {},
     "output_type": "execute_result"
    }
   ],
   "source": [
    "df"
   ]
  },
  {
   "cell_type": "markdown",
   "id": "ecff6dd3",
   "metadata": {},
   "source": [
    "# 2.Text Wrangling and Pre-processing"
   ]
  },
  {
   "cell_type": "code",
   "execution_count": 213,
   "id": "64b4a8a9",
   "metadata": {},
   "outputs": [
    {
     "name": "stdout",
     "output_type": "stream",
     "text": [
      "Defaulting to user installation because normal site-packages is not writeable\n",
      "Requirement already satisfied: spacy in c:\\users\\dalal\\appdata\\roaming\\python\\python39\\site-packages (3.6.1)\n",
      "Requirement already satisfied: spacy-loggers<2.0.0,>=1.0.0 in c:\\users\\dalal\\appdata\\roaming\\python\\python39\\site-packages (from spacy) (1.0.4)\n",
      "Requirement already satisfied: smart-open<7.0.0,>=5.2.1 in c:\\programdata\\anaconda3\\lib\\site-packages (from spacy) (5.2.1)\n",
      "Requirement already satisfied: requests<3.0.0,>=2.13.0 in c:\\programdata\\anaconda3\\lib\\site-packages (from spacy) (2.28.1)\n",
      "Requirement already satisfied: tqdm<5.0.0,>=4.38.0 in c:\\programdata\\anaconda3\\lib\\site-packages (from spacy) (4.64.1)\n",
      "Requirement already satisfied: packaging>=20.0 in c:\\programdata\\anaconda3\\lib\\site-packages (from spacy) (21.3)\n",
      "Requirement already satisfied: srsly<3.0.0,>=2.4.3 in c:\\users\\dalal\\appdata\\roaming\\python\\python39\\site-packages (from spacy) (2.4.7)\n",
      "Requirement already satisfied: jinja2 in c:\\programdata\\anaconda3\\lib\\site-packages (from spacy) (2.11.3)\n",
      "Requirement already satisfied: numpy>=1.15.0 in c:\\programdata\\anaconda3\\lib\\site-packages (from spacy) (1.21.5)\n",
      "Requirement already satisfied: preshed<3.1.0,>=3.0.2 in c:\\users\\dalal\\appdata\\roaming\\python\\python39\\site-packages (from spacy) (3.0.8)\n",
      "Requirement already satisfied: setuptools in c:\\programdata\\anaconda3\\lib\\site-packages (from spacy) (63.4.1)\n",
      "Requirement already satisfied: murmurhash<1.1.0,>=0.28.0 in c:\\users\\dalal\\appdata\\roaming\\python\\python39\\site-packages (from spacy) (1.0.9)\n",
      "Requirement already satisfied: cymem<2.1.0,>=2.0.2 in c:\\users\\dalal\\appdata\\roaming\\python\\python39\\site-packages (from spacy) (2.0.7)\n",
      "Requirement already satisfied: thinc<8.2.0,>=8.1.8 in c:\\users\\dalal\\appdata\\roaming\\python\\python39\\site-packages (from spacy) (8.1.12)\n",
      "Requirement already satisfied: typer<0.10.0,>=0.3.0 in c:\\users\\dalal\\appdata\\roaming\\python\\python39\\site-packages (from spacy) (0.9.0)\n",
      "Requirement already satisfied: wasabi<1.2.0,>=0.9.1 in c:\\users\\dalal\\appdata\\roaming\\python\\python39\\site-packages (from spacy) (1.1.2)\n",
      "Requirement already satisfied: catalogue<2.1.0,>=2.0.6 in c:\\users\\dalal\\appdata\\roaming\\python\\python39\\site-packages (from spacy) (2.0.9)\n",
      "Requirement already satisfied: pathy>=0.10.0 in c:\\users\\dalal\\appdata\\roaming\\python\\python39\\site-packages (from spacy) (0.10.2)\n",
      "Requirement already satisfied: pydantic!=1.8,!=1.8.1,<3.0.0,>=1.7.4 in c:\\users\\dalal\\appdata\\roaming\\python\\python39\\site-packages (from spacy) (2.2.0)\n",
      "Requirement already satisfied: langcodes<4.0.0,>=3.2.0 in c:\\users\\dalal\\appdata\\roaming\\python\\python39\\site-packages (from spacy) (3.3.0)\n",
      "Requirement already satisfied: spacy-legacy<3.1.0,>=3.0.11 in c:\\users\\dalal\\appdata\\roaming\\python\\python39\\site-packages (from spacy) (3.0.12)\n",
      "Requirement already satisfied: pyparsing!=3.0.5,>=2.0.2 in c:\\programdata\\anaconda3\\lib\\site-packages (from packaging>=20.0->spacy) (3.0.9)\n",
      "Requirement already satisfied: typing-extensions>=4.6.1 in c:\\users\\dalal\\appdata\\roaming\\python\\python39\\site-packages (from pydantic!=1.8,!=1.8.1,<3.0.0,>=1.7.4->spacy) (4.7.1)\n",
      "Requirement already satisfied: pydantic-core==2.6.0 in c:\\users\\dalal\\appdata\\roaming\\python\\python39\\site-packages (from pydantic!=1.8,!=1.8.1,<3.0.0,>=1.7.4->spacy) (2.6.0)\n",
      "Requirement already satisfied: annotated-types>=0.4.0 in c:\\users\\dalal\\appdata\\roaming\\python\\python39\\site-packages (from pydantic!=1.8,!=1.8.1,<3.0.0,>=1.7.4->spacy) (0.5.0)\n",
      "Requirement already satisfied: urllib3<1.27,>=1.21.1 in c:\\programdata\\anaconda3\\lib\\site-packages (from requests<3.0.0,>=2.13.0->spacy) (1.26.11)\n",
      "Requirement already satisfied: certifi>=2017.4.17 in c:\\programdata\\anaconda3\\lib\\site-packages (from requests<3.0.0,>=2.13.0->spacy) (2022.9.14)\n",
      "Requirement already satisfied: idna<4,>=2.5 in c:\\programdata\\anaconda3\\lib\\site-packages (from requests<3.0.0,>=2.13.0->spacy) (3.3)\n",
      "Requirement already satisfied: charset-normalizer<3,>=2 in c:\\programdata\\anaconda3\\lib\\site-packages (from requests<3.0.0,>=2.13.0->spacy) (2.0.4)\n",
      "Requirement already satisfied: confection<1.0.0,>=0.0.1 in c:\\users\\dalal\\appdata\\roaming\\python\\python39\\site-packages (from thinc<8.2.0,>=8.1.8->spacy) (0.1.1)\n",
      "Requirement already satisfied: blis<0.8.0,>=0.7.8 in c:\\users\\dalal\\appdata\\roaming\\python\\python39\\site-packages (from thinc<8.2.0,>=8.1.8->spacy) (0.7.10)\n",
      "Requirement already satisfied: colorama in c:\\users\\dalal\\appdata\\roaming\\python\\python39\\site-packages (from tqdm<5.0.0,>=4.38.0->spacy) (0.4.6)\n",
      "Requirement already satisfied: click<9.0.0,>=7.1.1 in c:\\programdata\\anaconda3\\lib\\site-packages (from typer<0.10.0,>=0.3.0->spacy) (8.0.4)\n",
      "Requirement already satisfied: MarkupSafe>=0.23 in c:\\programdata\\anaconda3\\lib\\site-packages (from jinja2->spacy) (2.0.1)\n"
     ]
    }
   ],
   "source": [
    "!pip install spacy"
   ]
  },
  {
   "cell_type": "code",
   "execution_count": 214,
   "id": "649ec9af",
   "metadata": {},
   "outputs": [],
   "source": [
    "import spacy #spacy uses nltk in the background \n",
    "import nltk\n",
    "from nltk.tokenize.toktok import ToktokTokenizer\n",
    "import re\n",
    "import unicodedata"
   ]
  },
  {
   "cell_type": "markdown",
   "id": "7db24c44",
   "metadata": {},
   "source": [
    "Necessary libraries are imported which will help us in carrying out the analysis further."
   ]
  },
  {
   "cell_type": "code",
   "execution_count": 215,
   "id": "7a164719",
   "metadata": {},
   "outputs": [
    {
     "data": {
      "text/plain": [
       "<spacy.lang.en.English at 0x269d99ca6d0>"
      ]
     },
     "execution_count": 215,
     "metadata": {},
     "output_type": "execute_result"
    }
   ],
   "source": [
    "nlp = spacy.load('en_core_web_sm')\n",
    "nlp #spacy english has lot of useful functions for nlp processing"
   ]
  },
  {
   "cell_type": "code",
   "execution_count": 216,
   "id": "d5477913",
   "metadata": {},
   "outputs": [
    {
     "name": "stderr",
     "output_type": "stream",
     "text": [
      "[nltk_data] Downloading package stopwords to\n",
      "[nltk_data]     C:\\Users\\dalal\\AppData\\Roaming\\nltk_data...\n",
      "[nltk_data]   Package stopwords is already up-to-date!\n"
     ]
    },
    {
     "data": {
      "text/plain": [
       "True"
      ]
     },
     "execution_count": 216,
     "metadata": {},
     "output_type": "execute_result"
    }
   ],
   "source": [
    "nltk.download('stopwords') #gives regular english stopwords"
   ]
  },
  {
   "cell_type": "code",
   "execution_count": 217,
   "id": "981eefba",
   "metadata": {},
   "outputs": [],
   "source": [
    "tokenizer=ToktokTokenizer()\n",
    "stopword_list=nltk.corpus.stopwords.words('english')\n",
    "stopword_list.remove('no')\n",
    "stopword_list.remove('not')\n",
    "#removed no and not from stopword list because we are going to remove stopwords and if we remove no and not it is going to \n",
    "#change the polarity and subjectivity of the sentence."
   ]
  },
  {
   "cell_type": "markdown",
   "id": "c0d5b81e",
   "metadata": {},
   "source": [
    "# Removing HTML tags"
   ]
  },
  {
   "cell_type": "code",
   "execution_count": 218,
   "id": "a268dd63",
   "metadata": {},
   "outputs": [
    {
     "data": {
      "text/plain": [
       "'Hello my name is Sumeet'"
      ]
     },
     "execution_count": 218,
     "metadata": {},
     "output_type": "execute_result"
    }
   ],
   "source": [
    "def strip_html_tags(text):\n",
    "    soup=BeautifulSoup(text,\"html.parser\") #html parser is used to handle the html data scrapped from web\n",
    "    stripped_text=soup.get_text()\n",
    "    return stripped_text\n",
    "strip_html_tags(\"<html><h2>Hello my name is Sumeet</h2></html>\")"
   ]
  },
  {
   "cell_type": "markdown",
   "id": "d5bdf93d",
   "metadata": {},
   "source": [
    "# Removing accented characters"
   ]
  },
  {
   "cell_type": "code",
   "execution_count": 219,
   "id": "db8b7ba9",
   "metadata": {},
   "outputs": [
    {
     "data": {
      "text/plain": [
       "'Accent'"
      ]
     },
     "execution_count": 219,
     "metadata": {},
     "output_type": "execute_result"
    }
   ],
   "source": [
    "def remove_accented_chars(text):\n",
    "    text=unicodedata.normalize('NFKD',text).encode('ascii','ignore').decode('utf-8','ignore')\n",
    "    return text\n",
    "remove_accented_chars(\"Áccěnt\") #nfkd means accented characters also we can use nfd,nfc and nfkc instead of nfkd\n",
    "#first encodes the accented i.e nfkd chars using ascii and then to convert it into normal characters uses utf-8 decoding"
   ]
  },
  {
   "cell_type": "markdown",
   "id": "67191b3a",
   "metadata": {},
   "source": [
    "# Removing special characters"
   ]
  },
  {
   "cell_type": "code",
   "execution_count": 220,
   "id": "36bd2fe7",
   "metadata": {},
   "outputs": [
    {
     "data": {
      "text/plain": [
       "'Hello i am Sumeet'"
      ]
     },
     "execution_count": 220,
     "metadata": {},
     "output_type": "execute_result"
    }
   ],
   "source": [
    "def remove_special_characters(text,remove_digits=False):\n",
    "    pattern=r'[^a-zA-z0-9\\s]' if not remove_digits else r'[^a-zA-z\\s]'\n",
    "    text=re.sub(pattern,'',text)\n",
    "    return text\n",
    "remove_special_characters(\"Hello! 'i' am Sumeet12345@!\",remove_digits=True)\n",
    "#re is regular expression\n",
    "#pattern is the form in which we can find the text in our data so that regular expression recognizes it and removes\n",
    "#those characters"
   ]
  },
  {
   "cell_type": "markdown",
   "id": "99002fd1",
   "metadata": {},
   "source": [
    "# Text lemmatization"
   ]
  },
  {
   "cell_type": "code",
   "execution_count": 221,
   "id": "5546d904",
   "metadata": {},
   "outputs": [],
   "source": [
    "def lemmatize_text(text):\n",
    "    text=nlp(text)\n",
    "    text=' '.join([word.lemma_ if word.lemma_ != '-PRON-' else word.text for word in text])\n",
    "    return text\n",
    "#PRON stands for PRONOUN\n",
    "#lemma means the base or root word"
   ]
  },
  {
   "cell_type": "code",
   "execution_count": 222,
   "id": "457b64a4",
   "metadata": {},
   "outputs": [
    {
     "data": {
      "text/plain": [
       "'my pc keep on crash regularly , also crash the day before'"
      ]
     },
     "execution_count": 222,
     "metadata": {},
     "output_type": "execute_result"
    }
   ],
   "source": [
    "lemmatize_text(\"My PC keeps on crashing regularly, also crashed the day before\")"
   ]
  },
  {
   "cell_type": "markdown",
   "id": "1fa7fce6",
   "metadata": {},
   "source": [
    "# Text Stemming"
   ]
  },
  {
   "cell_type": "code",
   "execution_count": 223,
   "id": "f4c6383f",
   "metadata": {},
   "outputs": [],
   "source": [
    "def simple_stemmer(text):\n",
    "    ps=nltk.porter.PorterStemmer()\n",
    "    text=' '.join([ps.stem(word) for word in text.split()])\n",
    "    return text"
   ]
  },
  {
   "cell_type": "code",
   "execution_count": 224,
   "id": "4e0c4015",
   "metadata": {},
   "outputs": [
    {
     "data": {
      "text/plain": [
       "'my pc keep on crash regularly, also crash the day befor'"
      ]
     },
     "execution_count": 224,
     "metadata": {},
     "output_type": "execute_result"
    }
   ],
   "source": [
    "simple_stemmer(\"My PC keeps on crashing regularly, also crashed the day before\")"
   ]
  },
  {
   "cell_type": "code",
   "execution_count": 426,
   "id": "773e0d21",
   "metadata": {},
   "outputs": [],
   "source": [
    "#we can use both stemming and lemmatization or either one\n",
    "#stemming doesnt work on parts of speech tagging but lemmatization works on parts of speech tagging\n",
    "#stemming is faster and lemmatization is slower."
   ]
  },
  {
   "cell_type": "markdown",
   "id": "cbe046aa",
   "metadata": {},
   "source": [
    "# Remove stopwords"
   ]
  },
  {
   "cell_type": "code",
   "execution_count": 226,
   "id": "ca819e58",
   "metadata": {},
   "outputs": [],
   "source": [
    "def remove_stopwords(text,is_lower_case=False):\n",
    "    tokens=tokenizer.tokenize(text)\n",
    "    tokens=[token.strip() for token in tokens]\n",
    "    if is_lower_case:\n",
    "        filtered_tokens=[token for token in tokens if token not in stopword_list]\n",
    "    else:\n",
    "        filtered_tokens=[token for token in tokens if token.lower() not in stopword_list]\n",
    "    filtered_text=' '.join(filtered_tokens)\n",
    "    return filtered_text"
   ]
  },
  {
   "cell_type": "code",
   "execution_count": 227,
   "id": "ac333642",
   "metadata": {},
   "outputs": [
    {
     "data": {
      "text/plain": [
       "', , stopwords computer not stopword'"
      ]
     },
     "execution_count": 227,
     "metadata": {},
     "output_type": "execute_result"
    }
   ],
   "source": [
    "remove_stopwords(\"a,an,the are the stopwords and computer is not a stopword\")"
   ]
  },
  {
   "cell_type": "code",
   "execution_count": 228,
   "id": "ce71f18d",
   "metadata": {},
   "outputs": [],
   "source": [
    "# toktok tokenizer converts sentence to words and strip removes any spaces between the characters"
   ]
  },
  {
   "cell_type": "markdown",
   "id": "b44f6ae6",
   "metadata": {},
   "source": [
    "# Building a text normalizer"
   ]
  },
  {
   "cell_type": "code",
   "execution_count": 229,
   "id": "94cc1ad5",
   "metadata": {},
   "outputs": [],
   "source": [
    "def normalized_corpus(corpus, html_stripping=True, contraction_expansion=True,\n",
    "                     accented_char_removal=True, text_lower_case=True, \n",
    "                     text_lemmatization=True, special_char_removal=True, \n",
    "                     stopword_removal=True, remove_digits=True):\n",
    "    \n",
    "    normalized_corpus = []\n",
    "    # normalize each document in the corpus\n",
    "    for doc in corpus:\n",
    "        # strip HTML\n",
    "        if html_stripping:\n",
    "            doc = strip_html_tags(doc)\n",
    "        # remove accented characters\n",
    "        if accented_char_removal:\n",
    "            doc = remove_accented_chars(doc)\n",
    "        # lowercase the text    \n",
    "        if text_lower_case:\n",
    "            doc = doc.lower()\n",
    "        # remove extra newlines\n",
    "        doc = re.sub(r'[\\r|\\n|\\r\\n]+', ' ',doc)\n",
    "        # lemmatize text\n",
    "        if text_lemmatization:\n",
    "            doc = lemmatize_text(doc)\n",
    "        # remove special characters and\\or digits    \n",
    "        if special_char_removal:\n",
    "            # insert spaces between special characters to isolate them    \n",
    "            special_char_pattern = re.compile(r'([{.(-)!}])')\n",
    "            doc = special_char_pattern.sub(\" \\\\1 \", doc)\n",
    "            doc = remove_special_characters(doc, remove_digits=remove_digits)  \n",
    "        # remove extra whitespace\n",
    "        doc = re.sub(' +', ' ', doc)\n",
    "        # remove stopwords\n",
    "        if stopword_removal:\n",
    "            doc = remove_stopwords(doc, is_lower_case=text_lower_case)\n",
    "            \n",
    "        normalized_corpus.append(doc)\n",
    "        \n",
    "    return normalized_corpus"
   ]
  },
  {
   "cell_type": "markdown",
   "id": "74a2fc0c",
   "metadata": {},
   "source": [
    "All the APIs or functions which we created above are combined into a normalized corpus defined function and then this function is applied on the data to get cleaned data."
   ]
  },
  {
   "cell_type": "markdown",
   "id": "d277509f",
   "metadata": {},
   "source": [
    "# Preprocessing of data"
   ]
  },
  {
   "cell_type": "code",
   "execution_count": 231,
   "id": "38802317",
   "metadata": {},
   "outputs": [],
   "source": [
    "df['clean_text']=normalized_corpus(df['Reviews'])\n",
    "norm_corpus=list(df['clean_text'])"
   ]
  },
  {
   "cell_type": "code",
   "execution_count": 232,
   "id": "83f01986",
   "metadata": {},
   "outputs": [
    {
     "data": {
      "text/plain": [
       "{'Reviews': \"If this is entertaining or romantic, then I don't know where Manmarziyan, Tamasha or Laila Majnu would stand (classics - I guess). A bogus movie with bad acting (overacting). I was expecting layered nuances of modern day relationships & other modern day problems, instead got a mind numbing experience of overacting & pointless scene after scene. What's the purpose of our characters in this movie & why do they exist ? In which world do our characters live, no movie had Covid, no one ever faces competitive entrances, no one faces recession, no one ever has decent conversation over Coffee. Either they dance in slo mo after taking shots or they are sleeping together. Arey Idiots, world is different & beautiful, much more than silliness you guys project. Bollywood movies have lost it completely. May be someday better cinema with better actors will make more moolah at box office. Sorry guys totally wasted my time & money. Meanwhile, we wait for Oppenheimer.\",\n",
       " 'clean_text': 'entertaining romantic I not know manmarziyan tamasha laila majnu would stand classic I guess bogus movie bad acting overacting I expect layered nuance modern day relationship modern day problem instead get mind numb experience overacting pointless scene scene purpose character movie exist world character live no movie covid no one ever face competitive entrance no one face recession no one ever decent conversation coffee either dance slo mo take shot sleep together arey idiot world different beautiful much silliness guy project bollywood movie lose completely may someday well cinema well actor make moolah box office sorry guy totally waste time money meanwhile wait oppenheimer'}"
      ]
     },
     "execution_count": 232,
     "metadata": {},
     "output_type": "execute_result"
    }
   ],
   "source": [
    "df.iloc[1][['Reviews','clean_text']].to_dict()"
   ]
  },
  {
   "cell_type": "code",
   "execution_count": 233,
   "id": "b0920dd1",
   "metadata": {},
   "outputs": [],
   "source": [
    "#df.to_csv('GroupM-TJMM',index=False,encoding='utf-8')"
   ]
  },
  {
   "cell_type": "markdown",
   "id": "b1a5749f",
   "metadata": {},
   "source": [
    "# Wordcloud"
   ]
  },
  {
   "cell_type": "code",
   "execution_count": 421,
   "id": "99d18686",
   "metadata": {},
   "outputs": [
    {
     "data": {
      "image/png": "[encoded data removed]",
      "text/plain": [
       "<Figure size 2000x1000 with 1 Axes>"
      ]
     },
     "metadata": {},
     "output_type": "display_data"
    }
   ],
   "source": [
    "wc = WordCloud()\n",
    "wc.generate(str(df['clean_text']))\n",
    "plt.figure(figsize=(20,10), facecolor='k')\n",
    "plt.title(\"Most frequent words in SMS dataset\", fontsize=40,color='white')\n",
    "plt.imshow(wc)\n",
    "plt.show()"
   ]
  },
  {
   "cell_type": "code",
   "execution_count": null,
   "id": "ba51e0db",
   "metadata": {},
   "outputs": [],
   "source": [
    "#getting the most frequent words from the text and visualizing them"
   ]
  },
  {
   "cell_type": "code",
   "execution_count": 400,
   "id": "c2cae222",
   "metadata": {},
   "outputs": [
    {
     "data": {
      "image/png": "[encoded data removed]",
      "text/plain": [
       "<Figure size 2000x1200 with 1 Axes>"
      ]
     },
     "metadata": {},
     "output_type": "display_data"
    },
    {
     "data": {
      "text/plain": [
       "<AxesSubplot:xlabel='Samples', ylabel='Counts'>"
      ]
     },
     "execution_count": 400,
     "metadata": {},
     "output_type": "execute_result"
    }
   ],
   "source": [
    "freq_dist = nltk.FreqDist(df['clean_text'])\n",
    "#Frequency Distribution Plot\n",
    "plt.subplots(figsize=(20,12))\n",
    "freq_dist.plot(30)"
   ]
  },
  {
   "cell_type": "code",
   "execution_count": 424,
   "id": "36011930",
   "metadata": {},
   "outputs": [
    {
     "data": {
      "text/plain": [
       "[('good movie', 184),\n",
       " ('nice movie', 137),\n",
       " ('nice story', 75),\n",
       " ('amazing movie', 73),\n",
       " ('great movie', 67),\n",
       " ('nice', 63),\n",
       " ('good', 59),\n",
       " ('awesome movie', 39),\n",
       " ('fantastic movie', 24),\n",
       " ('tu jhoothi main makkaar good movie', 21),\n",
       " ('excellent movie', 20),\n",
       " ('beautiful movie', 19),\n",
       " ('great story', 16),\n",
       " ('amazing', 15),\n",
       " ('papular movie', 15)]"
      ]
     },
     "execution_count": 424,
     "metadata": {},
     "output_type": "execute_result"
    }
   ],
   "source": [
    "mostcommon = freq_dist.most_common(15)\n",
    "mostcommon"
   ]
  },
  {
   "cell_type": "markdown",
   "id": "8016c118",
   "metadata": {},
   "source": [
    "Here we can see the most popular words or most frquent words in our text data."
   ]
  },
  {
   "cell_type": "markdown",
   "id": "81936aab",
   "metadata": {},
   "source": [
    "# Tagging Parts of Speech"
   ]
  },
  {
   "cell_type": "markdown",
   "id": "776e733a",
   "metadata": {},
   "source": [
    "POS tagging can be done with the help of two methods"
   ]
  },
  {
   "cell_type": "markdown",
   "id": "edda4522",
   "metadata": {},
   "source": [
    "method 1:\n",
    "Using Spacy"
   ]
  },
  {
   "cell_type": "code",
   "execution_count": 261,
   "id": "51e8d493",
   "metadata": {},
   "outputs": [],
   "source": [
    "l1=[]\n",
    "for i in range(5787):\n",
    "    sentence=df['clean_text'].iloc[i]\n",
    "    sentence_nlp=nlp(sentence)\n",
    "    spacy_pos_tag=[(word,word.tag_,word.pos_) for word in sentence_nlp]\n",
    "    l1.extend(spacy_pos_tag)   "
   ]
  },
  {
   "cell_type": "code",
   "execution_count": 264,
   "id": "80643ab4",
   "metadata": {},
   "outputs": [
    {
     "data": {
      "text/html": [
       "<div>\n",
       "<style scoped>\n",
       "    .dataframe tbody tr th:only-of-type {\n",
       "        vertical-align: middle;\n",
       "    }\n",
       "\n",
       "    .dataframe tbody tr th {\n",
       "        vertical-align: top;\n",
       "    }\n",
       "\n",
       "    .dataframe thead th {\n",
       "        text-align: right;\n",
       "    }\n",
       "</style>\n",
       "<table border=\"1\" class=\"dataframe\">\n",
       "  <thead>\n",
       "    <tr style=\"text-align: right;\">\n",
       "      <th></th>\n",
       "      <th>Word</th>\n",
       "      <th>POS tag</th>\n",
       "      <th>Tag type</th>\n",
       "    </tr>\n",
       "  </thead>\n",
       "  <tbody>\n",
       "    <tr>\n",
       "      <th>0</th>\n",
       "      <td>tu</td>\n",
       "      <td>NNP</td>\n",
       "      <td>PROPN</td>\n",
       "    </tr>\n",
       "    <tr>\n",
       "      <th>1</th>\n",
       "      <td>jhoothi</td>\n",
       "      <td>NNP</td>\n",
       "      <td>PROPN</td>\n",
       "    </tr>\n",
       "    <tr>\n",
       "      <th>2</th>\n",
       "      <td>main</td>\n",
       "      <td>JJ</td>\n",
       "      <td>ADJ</td>\n",
       "    </tr>\n",
       "    <tr>\n",
       "      <th>3</th>\n",
       "      <td>makkaar</td>\n",
       "      <td>NN</td>\n",
       "      <td>NOUN</td>\n",
       "    </tr>\n",
       "    <tr>\n",
       "      <th>4</th>\n",
       "      <td>film</td>\n",
       "      <td>NN</td>\n",
       "      <td>NOUN</td>\n",
       "    </tr>\n",
       "    <tr>\n",
       "      <th>...</th>\n",
       "      <td>...</td>\n",
       "      <td>...</td>\n",
       "      <td>...</td>\n",
       "    </tr>\n",
       "    <tr>\n",
       "      <th>202275</th>\n",
       "      <td>dailouge</td>\n",
       "      <td>NN</td>\n",
       "      <td>NOUN</td>\n",
       "    </tr>\n",
       "    <tr>\n",
       "      <th>202276</th>\n",
       "      <td>bollywood</td>\n",
       "      <td>NN</td>\n",
       "      <td>NOUN</td>\n",
       "    </tr>\n",
       "    <tr>\n",
       "      <th>202277</th>\n",
       "      <td>movie</td>\n",
       "      <td>NN</td>\n",
       "      <td>NOUN</td>\n",
       "    </tr>\n",
       "    <tr>\n",
       "      <th>202278</th>\n",
       "      <td>movie</td>\n",
       "      <td>NN</td>\n",
       "      <td>NOUN</td>\n",
       "    </tr>\n",
       "    <tr>\n",
       "      <th>202279</th>\n",
       "      <td>dialogue</td>\n",
       "      <td>NN</td>\n",
       "      <td>NOUN</td>\n",
       "    </tr>\n",
       "  </tbody>\n",
       "</table>\n",
       "<p>202280 rows × 3 columns</p>\n",
       "</div>"
      ],
      "text/plain": [
       "             Word POS tag Tag type\n",
       "0              tu     NNP    PROPN\n",
       "1         jhoothi     NNP    PROPN\n",
       "2            main      JJ      ADJ\n",
       "3         makkaar      NN     NOUN\n",
       "4            film      NN     NOUN\n",
       "...           ...     ...      ...\n",
       "202275   dailouge      NN     NOUN\n",
       "202276  bollywood      NN     NOUN\n",
       "202277      movie      NN     NOUN\n",
       "202278      movie      NN     NOUN\n",
       "202279   dialogue      NN     NOUN\n",
       "\n",
       "[202280 rows x 3 columns]"
      ]
     },
     "execution_count": 264,
     "metadata": {},
     "output_type": "execute_result"
    }
   ],
   "source": [
    "m1=pd.DataFrame(l1,columns=['Word','POS tag','Tag type'])\n",
    "m1"
   ]
  },
  {
   "cell_type": "code",
   "execution_count": null,
   "id": "fcff682b",
   "metadata": {},
   "outputs": [],
   "source": [
    "#POS tag is the short form of tag type."
   ]
  },
  {
   "cell_type": "markdown",
   "id": "9660713e",
   "metadata": {},
   "source": [
    "Method 2\n",
    "Using NLTK"
   ]
  },
  {
   "cell_type": "code",
   "execution_count": 186,
   "id": "0b6368fb",
   "metadata": {},
   "outputs": [
    {
     "name": "stderr",
     "output_type": "stream",
     "text": [
      "[nltk_data] Downloading package punkt to\n",
      "[nltk_data]     C:\\Users\\dalal\\AppData\\Roaming\\nltk_data...\n",
      "[nltk_data]   Unzipping tokenizers\\punkt.zip.\n"
     ]
    },
    {
     "data": {
      "text/plain": [
       "True"
      ]
     },
     "execution_count": 186,
     "metadata": {},
     "output_type": "execute_result"
    }
   ],
   "source": [
    "nltk.download('punkt')"
   ]
  },
  {
   "cell_type": "code",
   "execution_count": 187,
   "id": "58445c41",
   "metadata": {},
   "outputs": [
    {
     "name": "stderr",
     "output_type": "stream",
     "text": [
      "[nltk_data] Downloading package maxent_treebank_pos_tagger to\n",
      "[nltk_data]     C:\\Users\\dalal\\AppData\\Roaming\\nltk_data...\n",
      "[nltk_data]   Unzipping taggers\\maxent_treebank_pos_tagger.zip.\n"
     ]
    },
    {
     "data": {
      "text/plain": [
       "True"
      ]
     },
     "execution_count": 187,
     "metadata": {},
     "output_type": "execute_result"
    }
   ],
   "source": [
    "nltk.download('maxent_treebank_pos_tagger')"
   ]
  },
  {
   "cell_type": "code",
   "execution_count": 192,
   "id": "9789a55e",
   "metadata": {},
   "outputs": [
    {
     "name": "stderr",
     "output_type": "stream",
     "text": [
      "[nltk_data] Downloading package averaged_perceptron_tagger to\n",
      "[nltk_data]     C:\\Users\\dalal\\AppData\\Roaming\\nltk_data...\n",
      "[nltk_data]   Unzipping taggers\\averaged_perceptron_tagger.zip.\n"
     ]
    },
    {
     "data": {
      "text/plain": [
       "True"
      ]
     },
     "execution_count": 192,
     "metadata": {},
     "output_type": "execute_result"
    }
   ],
   "source": [
    "nltk.download('averaged_perceptron_tagger')"
   ]
  },
  {
   "cell_type": "code",
   "execution_count": 265,
   "id": "66afb1b2",
   "metadata": {},
   "outputs": [],
   "source": [
    "nltk_pos_tag=nltk.pos_tag(sentence.split())"
   ]
  },
  {
   "cell_type": "code",
   "execution_count": 267,
   "id": "60a53071",
   "metadata": {},
   "outputs": [],
   "source": [
    "l2=[]\n",
    "for i in range(5787):\n",
    "    sentence=df['clean_text'].iloc[i]\n",
    "    nltk_pos_tag=nltk.pos_tag(sentence.split())\n",
    "    l2.extend(nltk_pos_tag)   "
   ]
  },
  {
   "cell_type": "code",
   "execution_count": 268,
   "id": "ae744ed6",
   "metadata": {},
   "outputs": [
    {
     "data": {
      "text/html": [
       "<div>\n",
       "<style scoped>\n",
       "    .dataframe tbody tr th:only-of-type {\n",
       "        vertical-align: middle;\n",
       "    }\n",
       "\n",
       "    .dataframe tbody tr th {\n",
       "        vertical-align: top;\n",
       "    }\n",
       "\n",
       "    .dataframe thead th {\n",
       "        text-align: right;\n",
       "    }\n",
       "</style>\n",
       "<table border=\"1\" class=\"dataframe\">\n",
       "  <thead>\n",
       "    <tr style=\"text-align: right;\">\n",
       "      <th></th>\n",
       "      <th>Word</th>\n",
       "      <th>POS tag</th>\n",
       "    </tr>\n",
       "  </thead>\n",
       "  <tbody>\n",
       "    <tr>\n",
       "      <th>0</th>\n",
       "      <td>tu</td>\n",
       "      <td>NN</td>\n",
       "    </tr>\n",
       "    <tr>\n",
       "      <th>1</th>\n",
       "      <td>jhoothi</td>\n",
       "      <td>NN</td>\n",
       "    </tr>\n",
       "    <tr>\n",
       "      <th>2</th>\n",
       "      <td>main</td>\n",
       "      <td>JJ</td>\n",
       "    </tr>\n",
       "    <tr>\n",
       "      <th>3</th>\n",
       "      <td>makkaar</td>\n",
       "      <td>NN</td>\n",
       "    </tr>\n",
       "    <tr>\n",
       "      <th>4</th>\n",
       "      <td>film</td>\n",
       "      <td>NN</td>\n",
       "    </tr>\n",
       "    <tr>\n",
       "      <th>...</th>\n",
       "      <td>...</td>\n",
       "      <td>...</td>\n",
       "    </tr>\n",
       "    <tr>\n",
       "      <th>202264</th>\n",
       "      <td>dailouge</td>\n",
       "      <td>NN</td>\n",
       "    </tr>\n",
       "    <tr>\n",
       "      <th>202265</th>\n",
       "      <td>bollywood</td>\n",
       "      <td>NN</td>\n",
       "    </tr>\n",
       "    <tr>\n",
       "      <th>202266</th>\n",
       "      <td>movie</td>\n",
       "      <td>NN</td>\n",
       "    </tr>\n",
       "    <tr>\n",
       "      <th>202267</th>\n",
       "      <td>movie</td>\n",
       "      <td>NN</td>\n",
       "    </tr>\n",
       "    <tr>\n",
       "      <th>202268</th>\n",
       "      <td>dialogue</td>\n",
       "      <td>NN</td>\n",
       "    </tr>\n",
       "  </tbody>\n",
       "</table>\n",
       "<p>202269 rows × 2 columns</p>\n",
       "</div>"
      ],
      "text/plain": [
       "             Word POS tag\n",
       "0              tu      NN\n",
       "1         jhoothi      NN\n",
       "2            main      JJ\n",
       "3         makkaar      NN\n",
       "4            film      NN\n",
       "...           ...     ...\n",
       "202264   dailouge      NN\n",
       "202265  bollywood      NN\n",
       "202266      movie      NN\n",
       "202267      movie      NN\n",
       "202268   dialogue      NN\n",
       "\n",
       "[202269 rows x 2 columns]"
      ]
     },
     "execution_count": 268,
     "metadata": {},
     "output_type": "execute_result"
    }
   ],
   "source": [
    "m2=pd.DataFrame(l2,columns=['Word','POS tag'])\n",
    "m2"
   ]
  },
  {
   "cell_type": "markdown",
   "id": "cb945e54",
   "metadata": {},
   "source": [
    "Visualizing the count of parts of speech in the data"
   ]
  },
  {
   "cell_type": "code",
   "execution_count": 274,
   "id": "fa17ca69",
   "metadata": {},
   "outputs": [
    {
     "data": {
      "text/html": [
       "<div>\n",
       "<style scoped>\n",
       "    .dataframe tbody tr th:only-of-type {\n",
       "        vertical-align: middle;\n",
       "    }\n",
       "\n",
       "    .dataframe tbody tr th {\n",
       "        vertical-align: top;\n",
       "    }\n",
       "\n",
       "    .dataframe thead th {\n",
       "        text-align: right;\n",
       "    }\n",
       "</style>\n",
       "<table border=\"1\" class=\"dataframe\">\n",
       "  <thead>\n",
       "    <tr style=\"text-align: right;\">\n",
       "      <th></th>\n",
       "      <th>NOUN</th>\n",
       "      <th>ADJ</th>\n",
       "      <th>VERB</th>\n",
       "      <th>PROPN</th>\n",
       "      <th>ADV</th>\n",
       "      <th>PRON</th>\n",
       "      <th>AUX</th>\n",
       "      <th>PART</th>\n",
       "      <th>ADP</th>\n",
       "      <th>NUM</th>\n",
       "      <th>DET</th>\n",
       "      <th>SCONJ</th>\n",
       "      <th>INTJ</th>\n",
       "      <th>CCONJ</th>\n",
       "      <th>X</th>\n",
       "      <th>PUNCT</th>\n",
       "      <th>SYM</th>\n",
       "    </tr>\n",
       "  </thead>\n",
       "  <tbody>\n",
       "    <tr>\n",
       "      <th>Tag type</th>\n",
       "      <td>84688</td>\n",
       "      <td>37621</td>\n",
       "      <td>29631</td>\n",
       "      <td>19474</td>\n",
       "      <td>12066</td>\n",
       "      <td>7079</td>\n",
       "      <td>2239</td>\n",
       "      <td>2204</td>\n",
       "      <td>1919</td>\n",
       "      <td>1687</td>\n",
       "      <td>1401</td>\n",
       "      <td>1198</td>\n",
       "      <td>775</td>\n",
       "      <td>220</td>\n",
       "      <td>70</td>\n",
       "      <td>6</td>\n",
       "      <td>2</td>\n",
       "    </tr>\n",
       "  </tbody>\n",
       "</table>\n",
       "</div>"
      ],
      "text/plain": [
       "           NOUN    ADJ   VERB  PROPN    ADV  PRON   AUX  PART   ADP   NUM  \\\n",
       "Tag type  84688  37621  29631  19474  12066  7079  2239  2204  1919  1687   \n",
       "\n",
       "           DET  SCONJ  INTJ  CCONJ   X  PUNCT  SYM  \n",
       "Tag type  1401   1198   775    220  70      6    2  "
      ]
     },
     "execution_count": 274,
     "metadata": {},
     "output_type": "execute_result"
    }
   ],
   "source": [
    "m1['Tag type'].value_counts().to_frame().T"
   ]
  },
  {
   "cell_type": "code",
   "execution_count": 275,
   "id": "f54a51c3",
   "metadata": {},
   "outputs": [
    {
     "data": {
      "image/png": "[encoded data removed]",
      "text/plain": [
       "<Figure size 640x480 with 1 Axes>"
      ]
     },
     "metadata": {},
     "output_type": "display_data"
    }
   ],
   "source": [
    "sns.countplot(m1['Tag type'])\n",
    "plt.xticks(rotation=90)\n",
    "plt.tight_layout()"
   ]
  },
  {
   "cell_type": "markdown",
   "id": "76d0a6eb",
   "metadata": {},
   "source": [
    "From the above count plot it is clearly visible that Noun is the part of speech which has appeared the most in our textual data.It is followed by other parts of speech like Adjective,Verb and so on."
   ]
  },
  {
   "cell_type": "markdown",
   "id": "a80a060d",
   "metadata": {},
   "source": [
    "# Named Entity Recognition"
   ]
  },
  {
   "cell_type": "code",
   "execution_count": 277,
   "id": "6e0e5e74",
   "metadata": {},
   "outputs": [],
   "source": [
    "sentence=df['clean_text'].iloc[0]"
   ]
  },
  {
   "cell_type": "code",
   "execution_count": 278,
   "id": "fabc5354",
   "metadata": {},
   "outputs": [
    {
     "data": {
      "text/plain": [
       "tu jhoothi main makkaar film promise lot talented cast ultimately fail deliver compelling storyline ranbir kapoor shraddha kapoor play lead role movie performance overshadow lackluster script film revolve around story two young lover tumultuous relationship despite promising premise plot fail engage audience due weak character development unimpressive screenplay story feels rush disjoint audience leave without clear understanding motivation characters acting ranbir kapoor shraddha kapoor one bright spot film however even impressive performance not save movie flaw chemistry lead actor lacking interaction come across force rather natural another issue film lackluster visual sound design cinematography dull color palette uninspired fail create sense atmosphere mood dialogue poorly write time make no sense music background score forgettable fail add emotional depth story overall tu jhoothi main makkaar mediocre movie fail live potential talented cast despite promising premise film weak script lackluster character development unimpressive technical aspect make forgettable experience"
      ]
     },
     "execution_count": 278,
     "metadata": {},
     "output_type": "execute_result"
    }
   ],
   "source": [
    "sentence_nlp=nlp(sentence)\n",
    "sentence_nlp"
   ]
  },
  {
   "cell_type": "code",
   "execution_count": 279,
   "id": "bebee230",
   "metadata": {},
   "outputs": [
    {
     "name": "stdout",
     "output_type": "stream",
     "text": [
      "[(tu, 'PERSON'), (kapoor, 'GPE'), (two, 'CARDINAL'), (kapoor, 'GPE'), (one, 'CARDINAL')]\n"
     ]
    }
   ],
   "source": [
    "print([(word,word.ent_type_) for word in sentence_nlp if word.ent_type_])"
   ]
  },
  {
   "cell_type": "code",
   "execution_count": 298,
   "id": "c7145571",
   "metadata": {},
   "outputs": [],
   "source": [
    "named_entities = []\n",
    "for sentence in df['clean_text']:\n",
    "    temp_entity_name = ''\n",
    "    temp_named_entity = None\n",
    "    sentence = nlp(sentence)\n",
    "    for word in sentence:\n",
    "        term = word.text \n",
    "        tag = word.ent_type_\n",
    "        if tag:\n",
    "            temp_entity_name = ' '.join([temp_entity_name, term]).strip()\n",
    "            temp_named_entity = (temp_entity_name, tag)\n",
    "        else:\n",
    "            if temp_named_entity:\n",
    "                named_entities.append(temp_named_entity)\n",
    "                temp_entity_name = ''\n",
    "                temp_named_entity = None\n",
    "\n",
    "entity_frame = pd.DataFrame(named_entities, \n",
    "                            columns=['Entity Name', 'Entity Type'])"
   ]
  },
  {
   "cell_type": "code",
   "execution_count": 299,
   "id": "1e28c135",
   "metadata": {},
   "outputs": [
    {
     "data": {
      "text/html": [
       "<div>\n",
       "<style scoped>\n",
       "    .dataframe tbody tr th:only-of-type {\n",
       "        vertical-align: middle;\n",
       "    }\n",
       "\n",
       "    .dataframe tbody tr th {\n",
       "        vertical-align: top;\n",
       "    }\n",
       "\n",
       "    .dataframe thead th {\n",
       "        text-align: right;\n",
       "    }\n",
       "</style>\n",
       "<table border=\"1\" class=\"dataframe\">\n",
       "  <thead>\n",
       "    <tr style=\"text-align: right;\">\n",
       "      <th></th>\n",
       "      <th>Entity Name</th>\n",
       "      <th>Entity Type</th>\n",
       "    </tr>\n",
       "  </thead>\n",
       "  <tbody>\n",
       "    <tr>\n",
       "      <th>0</th>\n",
       "      <td>tu</td>\n",
       "      <td>PERSON</td>\n",
       "    </tr>\n",
       "    <tr>\n",
       "      <th>1</th>\n",
       "      <td>kapoor</td>\n",
       "      <td>GPE</td>\n",
       "    </tr>\n",
       "    <tr>\n",
       "      <th>2</th>\n",
       "      <td>two</td>\n",
       "      <td>CARDINAL</td>\n",
       "    </tr>\n",
       "    <tr>\n",
       "      <th>3</th>\n",
       "      <td>kapoor</td>\n",
       "      <td>GPE</td>\n",
       "    </tr>\n",
       "    <tr>\n",
       "      <th>4</th>\n",
       "      <td>one</td>\n",
       "      <td>CARDINAL</td>\n",
       "    </tr>\n",
       "    <tr>\n",
       "      <th>...</th>\n",
       "      <td>...</td>\n",
       "      <td>...</td>\n",
       "    </tr>\n",
       "    <tr>\n",
       "      <th>5758</th>\n",
       "      <td>one</td>\n",
       "      <td>CARDINAL</td>\n",
       "    </tr>\n",
       "    <tr>\n",
       "      <th>5759</th>\n",
       "      <td>one</td>\n",
       "      <td>CARDINAL</td>\n",
       "    </tr>\n",
       "    <tr>\n",
       "      <th>5760</th>\n",
       "      <td>luv ranjan</td>\n",
       "      <td>PERSON</td>\n",
       "    </tr>\n",
       "    <tr>\n",
       "      <th>5761</th>\n",
       "      <td>one</td>\n",
       "      <td>CARDINAL</td>\n",
       "    </tr>\n",
       "    <tr>\n",
       "      <th>5762</th>\n",
       "      <td>luv ranjan</td>\n",
       "      <td>PERSON</td>\n",
       "    </tr>\n",
       "  </tbody>\n",
       "</table>\n",
       "<p>5763 rows × 2 columns</p>\n",
       "</div>"
      ],
      "text/plain": [
       "     Entity Name Entity Type\n",
       "0             tu      PERSON\n",
       "1         kapoor         GPE\n",
       "2            two    CARDINAL\n",
       "3         kapoor         GPE\n",
       "4            one    CARDINAL\n",
       "...          ...         ...\n",
       "5758         one    CARDINAL\n",
       "5759         one    CARDINAL\n",
       "5760  luv ranjan      PERSON\n",
       "5761         one    CARDINAL\n",
       "5762  luv ranjan      PERSON\n",
       "\n",
       "[5763 rows x 2 columns]"
      ]
     },
     "execution_count": 299,
     "metadata": {},
     "output_type": "execute_result"
    }
   ],
   "source": [
    "entity_frame"
   ]
  },
  {
   "cell_type": "code",
   "execution_count": 320,
   "id": "231483b5",
   "metadata": {},
   "outputs": [
    {
     "data": {
      "text/html": [
       "<div>\n",
       "<style scoped>\n",
       "    .dataframe tbody tr th:only-of-type {\n",
       "        vertical-align: middle;\n",
       "    }\n",
       "\n",
       "    .dataframe tbody tr th {\n",
       "        vertical-align: top;\n",
       "    }\n",
       "\n",
       "    .dataframe thead th {\n",
       "        text-align: right;\n",
       "    }\n",
       "</style>\n",
       "<table border=\"1\" class=\"dataframe\">\n",
       "  <thead>\n",
       "    <tr style=\"text-align: right;\">\n",
       "      <th></th>\n",
       "      <th>Entity Name</th>\n",
       "      <th>Entity Type</th>\n",
       "      <th>Frequency</th>\n",
       "    </tr>\n",
       "  </thead>\n",
       "  <tbody>\n",
       "    <tr>\n",
       "      <th>0</th>\n",
       "      <td>kapoor</td>\n",
       "      <td>GPE</td>\n",
       "      <td>649</td>\n",
       "    </tr>\n",
       "    <tr>\n",
       "      <th>1</th>\n",
       "      <td>one</td>\n",
       "      <td>CARDINAL</td>\n",
       "      <td>617</td>\n",
       "    </tr>\n",
       "    <tr>\n",
       "      <th>2</th>\n",
       "      <td>three year</td>\n",
       "      <td>DATE</td>\n",
       "      <td>425</td>\n",
       "    </tr>\n",
       "    <tr>\n",
       "      <th>3</th>\n",
       "      <td>anjaana anjaani bachna</td>\n",
       "      <td>ORG</td>\n",
       "      <td>374</td>\n",
       "    </tr>\n",
       "    <tr>\n",
       "      <th>4</th>\n",
       "      <td>singh bassi</td>\n",
       "      <td>PERSON</td>\n",
       "      <td>349</td>\n",
       "    </tr>\n",
       "    <tr>\n",
       "      <th>...</th>\n",
       "      <td>...</td>\n",
       "      <td>...</td>\n",
       "      <td>...</td>\n",
       "    </tr>\n",
       "    <tr>\n",
       "      <th>760</th>\n",
       "      <td>haseeno young guy ranbir</td>\n",
       "      <td>ORG</td>\n",
       "      <td>1</td>\n",
       "    </tr>\n",
       "    <tr>\n",
       "      <th>761</th>\n",
       "      <td>haseeno young ranbir kapoor</td>\n",
       "      <td>ORG</td>\n",
       "      <td>1</td>\n",
       "    </tr>\n",
       "    <tr>\n",
       "      <th>762</th>\n",
       "      <td>haseeno young star</td>\n",
       "      <td>PERSON</td>\n",
       "      <td>1</td>\n",
       "    </tr>\n",
       "    <tr>\n",
       "      <th>763</th>\n",
       "      <td>haseenopart ranbir</td>\n",
       "      <td>ORG</td>\n",
       "      <td>1</td>\n",
       "    </tr>\n",
       "    <tr>\n",
       "      <th>764</th>\n",
       "      <td>9</td>\n",
       "      <td>MONEY</td>\n",
       "      <td>1</td>\n",
       "    </tr>\n",
       "  </tbody>\n",
       "</table>\n",
       "<p>765 rows × 3 columns</p>\n",
       "</div>"
      ],
      "text/plain": [
       "                     Entity Name Entity Type  Frequency\n",
       "0                         kapoor         GPE        649\n",
       "1                            one    CARDINAL        617\n",
       "2                     three year        DATE        425\n",
       "3         anjaana anjaani bachna         ORG        374\n",
       "4                    singh bassi      PERSON        349\n",
       "..                           ...         ...        ...\n",
       "760     haseeno young guy ranbir         ORG          1\n",
       "761  haseeno young ranbir kapoor         ORG          1\n",
       "762           haseeno young star      PERSON          1\n",
       "763           haseenopart ranbir         ORG          1\n",
       "764                            9       MONEY          1\n",
       "\n",
       "[765 rows x 3 columns]"
      ]
     },
     "execution_count": 320,
     "metadata": {},
     "output_type": "execute_result"
    }
   ],
   "source": [
    "top_entities = entity_frame.groupby(by=['Entity Name', 'Entity Type']).size().sort_values(ascending=False).reset_index().rename(columns={0 : 'Frequency'})\n",
    "top_entities"
   ]
  },
  {
   "cell_type": "code",
   "execution_count": null,
   "id": "37f7c682",
   "metadata": {},
   "outputs": [],
   "source": [
    "#value_counts() and to_frame() can be used instead of size()"
   ]
  },
  {
   "cell_type": "code",
   "execution_count": 333,
   "id": "21b10a4f",
   "metadata": {},
   "outputs": [
    {
     "data": {
      "text/html": [
       "<div>\n",
       "<style scoped>\n",
       "    .dataframe tbody tr th:only-of-type {\n",
       "        vertical-align: middle;\n",
       "    }\n",
       "\n",
       "    .dataframe tbody tr th {\n",
       "        vertical-align: top;\n",
       "    }\n",
       "\n",
       "    .dataframe thead th {\n",
       "        text-align: right;\n",
       "    }\n",
       "</style>\n",
       "<table border=\"1\" class=\"dataframe\">\n",
       "  <thead>\n",
       "    <tr style=\"text-align: right;\">\n",
       "      <th></th>\n",
       "      <th>Frequency</th>\n",
       "    </tr>\n",
       "    <tr>\n",
       "      <th>Entity Type</th>\n",
       "      <th></th>\n",
       "    </tr>\n",
       "  </thead>\n",
       "  <tbody>\n",
       "    <tr>\n",
       "      <th>CARDINAL</th>\n",
       "      <td>978</td>\n",
       "    </tr>\n",
       "    <tr>\n",
       "      <th>DATE</th>\n",
       "      <td>772</td>\n",
       "    </tr>\n",
       "    <tr>\n",
       "      <th>FAC</th>\n",
       "      <td>17</td>\n",
       "    </tr>\n",
       "    <tr>\n",
       "      <th>GPE</th>\n",
       "      <td>791</td>\n",
       "    </tr>\n",
       "    <tr>\n",
       "      <th>LAW</th>\n",
       "      <td>33</td>\n",
       "    </tr>\n",
       "    <tr>\n",
       "      <th>...</th>\n",
       "      <td>...</td>\n",
       "    </tr>\n",
       "    <tr>\n",
       "      <th>ORG</th>\n",
       "      <td>1090</td>\n",
       "    </tr>\n",
       "    <tr>\n",
       "      <th>PERSON</th>\n",
       "      <td>1590</td>\n",
       "    </tr>\n",
       "    <tr>\n",
       "      <th>PRODUCT</th>\n",
       "      <td>2</td>\n",
       "    </tr>\n",
       "    <tr>\n",
       "      <th>QUANTITY</th>\n",
       "      <td>2</td>\n",
       "    </tr>\n",
       "    <tr>\n",
       "      <th>TIME</th>\n",
       "      <td>102</td>\n",
       "    </tr>\n",
       "  </tbody>\n",
       "</table>\n",
       "<p>14 rows × 1 columns</p>\n",
       "</div>"
      ],
      "text/plain": [
       "             Frequency\n",
       "Entity Type           \n",
       "CARDINAL           978\n",
       "DATE               772\n",
       "FAC                 17\n",
       "GPE                791\n",
       "LAW                 33\n",
       "...                ...\n",
       "ORG               1090\n",
       "PERSON            1590\n",
       "PRODUCT              2\n",
       "QUANTITY             2\n",
       "TIME               102\n",
       "\n",
       "[14 rows x 1 columns]"
      ]
     },
     "execution_count": 333,
     "metadata": {},
     "output_type": "execute_result"
    }
   ],
   "source": [
    "q=entity_frame.groupby('Entity Type').count().rename(columns={'Entity Name':'Frequency'})\n",
    "q"
   ]
  },
  {
   "cell_type": "markdown",
   "id": "52516dca",
   "metadata": {},
   "source": [
    "Visualizing the most frequent entities in the data"
   ]
  },
  {
   "cell_type": "code",
   "execution_count": 338,
   "id": "a44b9262",
   "metadata": {},
   "outputs": [
    {
     "data": {
      "text/plain": [
       "<AxesSubplot:xlabel='Entity Type'>"
      ]
     },
     "execution_count": 338,
     "metadata": {},
     "output_type": "execute_result"
    },
    {
     "data": {
      "image/png": "[encoded data removed]",
      "text/plain": [
       "<Figure size 640x480 with 1 Axes>"
      ]
     },
     "metadata": {},
     "output_type": "display_data"
    }
   ],
   "source": [
    "q.plot(kind='bar')"
   ]
  },
  {
   "cell_type": "markdown",
   "id": "510888d8",
   "metadata": {},
   "source": [
    "Here we can see that PERSON is the entity type which has appeared the most in our textual data.It is followed by other entities like ORG,CARDINAL and so on."
   ]
  },
  {
   "cell_type": "markdown",
   "id": "ac534e79",
   "metadata": {},
   "source": [
    "# Sentiment Analysis "
   ]
  },
  {
   "cell_type": "markdown",
   "id": "085c8f93",
   "metadata": {},
   "source": [
    "Sentiment Analysis on textual data can be performed using two methods 1.Afinn and 2.TextBlob"
   ]
  },
  {
   "cell_type": "markdown",
   "id": "64431988",
   "metadata": {},
   "source": [
    "Method 1-Using Afinn"
   ]
  },
  {
   "cell_type": "code",
   "execution_count": 339,
   "id": "e7af79ac",
   "metadata": {},
   "outputs": [
    {
     "name": "stdout",
     "output_type": "stream",
     "text": [
      "Defaulting to user installation because normal site-packages is not writeable\n",
      "Collecting afinn\n",
      "  Downloading afinn-0.1.tar.gz (52 kB)\n",
      "     -------------------------------------- 52.6/52.6 kB 672.2 kB/s eta 0:00:00\n",
      "  Preparing metadata (setup.py): started\n",
      "  Preparing metadata (setup.py): finished with status 'done'\n",
      "Building wheels for collected packages: afinn\n",
      "  Building wheel for afinn (setup.py): started\n",
      "  Building wheel for afinn (setup.py): finished with status 'done'\n",
      "  Created wheel for afinn: filename=afinn-0.1-py3-none-any.whl size=53431 sha256=c09aa27931821bb1d795f10c334db6d99bd2d787e5c1b1c6efda9b30c10b877b\n",
      "  Stored in directory: c:\\users\\dalal\\appdata\\local\\pip\\cache\\wheels\\79\\91\\ee\\8374d9bc8c6c0896a2db75afdfd63d43653902407a0e76cd94\n",
      "Successfully built afinn\n",
      "Installing collected packages: afinn\n",
      "Successfully installed afinn-0.1\n"
     ]
    }
   ],
   "source": [
    "!pip install afinn"
   ]
  },
  {
   "cell_type": "code",
   "execution_count": 340,
   "id": "c0b13939",
   "metadata": {},
   "outputs": [],
   "source": [
    "from afinn import Afinn"
   ]
  },
  {
   "cell_type": "code",
   "execution_count": 342,
   "id": "fe021936",
   "metadata": {},
   "outputs": [],
   "source": [
    "af=Afinn()"
   ]
  },
  {
   "cell_type": "code",
   "execution_count": 344,
   "id": "361688a7",
   "metadata": {},
   "outputs": [],
   "source": [
    "sentiment_scores=[af.score(article) for article in df['clean_text']]"
   ]
  },
  {
   "cell_type": "code",
   "execution_count": 346,
   "id": "35c4bfad",
   "metadata": {},
   "outputs": [],
   "source": [
    "sentiment_category=['Positive' if score>0 else 'Negative' if score<0 else 'Neutral' for score in sentiment_scores]"
   ]
  },
  {
   "cell_type": "code",
   "execution_count": 349,
   "id": "9a0aeb5c",
   "metadata": {},
   "outputs": [],
   "source": [
    "df1=df.copy()"
   ]
  },
  {
   "cell_type": "code",
   "execution_count": 351,
   "id": "3c089d02",
   "metadata": {},
   "outputs": [],
   "source": [
    "df1['Sentiment score Afinn']=sentiment_scores\n",
    "df1['Sentiment category Afinn']=sentiment_category"
   ]
  },
  {
   "cell_type": "code",
   "execution_count": 352,
   "id": "16b6b189",
   "metadata": {},
   "outputs": [
    {
     "data": {
      "text/html": [
       "<div>\n",
       "<style scoped>\n",
       "    .dataframe tbody tr th:only-of-type {\n",
       "        vertical-align: middle;\n",
       "    }\n",
       "\n",
       "    .dataframe tbody tr th {\n",
       "        vertical-align: top;\n",
       "    }\n",
       "\n",
       "    .dataframe thead th {\n",
       "        text-align: right;\n",
       "    }\n",
       "</style>\n",
       "<table border=\"1\" class=\"dataframe\">\n",
       "  <thead>\n",
       "    <tr style=\"text-align: right;\">\n",
       "      <th></th>\n",
       "      <th>Reviews</th>\n",
       "      <th>clean_text</th>\n",
       "      <th>Sentiment score Afinn</th>\n",
       "      <th>Sentiment category Afinn</th>\n",
       "    </tr>\n",
       "  </thead>\n",
       "  <tbody>\n",
       "    <tr>\n",
       "      <th>0</th>\n",
       "      <td>\"Tu Jhoothi Main Makkaar\" is a film that promi...</td>\n",
       "      <td>tu jhoothi main makkaar film promise lot talen...</td>\n",
       "      <td>-15.0</td>\n",
       "      <td>Negative</td>\n",
       "    </tr>\n",
       "    <tr>\n",
       "      <th>1</th>\n",
       "      <td>If this is entertaining or romantic, then I do...</td>\n",
       "      <td>entertaining romantic I not know manmarziyan t...</td>\n",
       "      <td>-12.0</td>\n",
       "      <td>Negative</td>\n",
       "    </tr>\n",
       "    <tr>\n",
       "      <th>2</th>\n",
       "      <td>Tu Jhoothi Main Makkar is two films in one, pr...</td>\n",
       "      <td>tu jhoothi main makkar two film one promote th...</td>\n",
       "      <td>50.0</td>\n",
       "      <td>Positive</td>\n",
       "    </tr>\n",
       "    <tr>\n",
       "      <th>3</th>\n",
       "      <td>Firstly the storyline shown in trailer is abso...</td>\n",
       "      <td>firstly storyline show trailer absolutely fals...</td>\n",
       "      <td>7.0</td>\n",
       "      <td>Positive</td>\n",
       "    </tr>\n",
       "    <tr>\n",
       "      <th>4</th>\n",
       "      <td>Again a bakwas content. Same again monkey bala...</td>\n",
       "      <td>bakwas content monkey balance b w poisonous fe...</td>\n",
       "      <td>0.0</td>\n",
       "      <td>Neutral</td>\n",
       "    </tr>\n",
       "    <tr>\n",
       "      <th>...</th>\n",
       "      <td>...</td>\n",
       "      <td>...</td>\n",
       "      <td>...</td>\n",
       "      <td>...</td>\n",
       "    </tr>\n",
       "    <tr>\n",
       "      <th>5782</th>\n",
       "      <td>useless Movie and screenplay</td>\n",
       "      <td>useless movie screenplay</td>\n",
       "      <td>-2.0</td>\n",
       "      <td>Negative</td>\n",
       "    </tr>\n",
       "    <tr>\n",
       "      <th>5783</th>\n",
       "      <td>Green screen was so obvious and a lot of scene...</td>\n",
       "      <td>green screen obvious lot scene look fake</td>\n",
       "      <td>-3.0</td>\n",
       "      <td>Negative</td>\n",
       "    </tr>\n",
       "    <tr>\n",
       "      <th>5784</th>\n",
       "      <td>Luv Ranjan and his way of presenting love from...</td>\n",
       "      <td>luv ranjan way present love different viewpoint</td>\n",
       "      <td>3.0</td>\n",
       "      <td>Positive</td>\n",
       "    </tr>\n",
       "    <tr>\n",
       "      <th>5785</th>\n",
       "      <td>For all romcom lovers</td>\n",
       "      <td>romcom lover</td>\n",
       "      <td>0.0</td>\n",
       "      <td>Neutral</td>\n",
       "    </tr>\n",
       "    <tr>\n",
       "      <th>5786</th>\n",
       "      <td>After a long time unique dailouges in a Bollyw...</td>\n",
       "      <td>long time unique dailouge bollywood movie movi...</td>\n",
       "      <td>0.0</td>\n",
       "      <td>Neutral</td>\n",
       "    </tr>\n",
       "  </tbody>\n",
       "</table>\n",
       "<p>5787 rows × 4 columns</p>\n",
       "</div>"
      ],
      "text/plain": [
       "                                                Reviews  \\\n",
       "0     \"Tu Jhoothi Main Makkaar\" is a film that promi...   \n",
       "1     If this is entertaining or romantic, then I do...   \n",
       "2     Tu Jhoothi Main Makkar is two films in one, pr...   \n",
       "3     Firstly the storyline shown in trailer is abso...   \n",
       "4     Again a bakwas content. Same again monkey bala...   \n",
       "...                                                 ...   \n",
       "5782                       useless Movie and screenplay   \n",
       "5783  Green screen was so obvious and a lot of scene...   \n",
       "5784  Luv Ranjan and his way of presenting love from...   \n",
       "5785                              For all romcom lovers   \n",
       "5786  After a long time unique dailouges in a Bollyw...   \n",
       "\n",
       "                                             clean_text  \\\n",
       "0     tu jhoothi main makkaar film promise lot talen...   \n",
       "1     entertaining romantic I not know manmarziyan t...   \n",
       "2     tu jhoothi main makkar two film one promote th...   \n",
       "3     firstly storyline show trailer absolutely fals...   \n",
       "4     bakwas content monkey balance b w poisonous fe...   \n",
       "...                                                 ...   \n",
       "5782                           useless movie screenplay   \n",
       "5783           green screen obvious lot scene look fake   \n",
       "5784    luv ranjan way present love different viewpoint   \n",
       "5785                                       romcom lover   \n",
       "5786  long time unique dailouge bollywood movie movi...   \n",
       "\n",
       "      Sentiment score Afinn Sentiment category Afinn  \n",
       "0                     -15.0                 Negative  \n",
       "1                     -12.0                 Negative  \n",
       "2                      50.0                 Positive  \n",
       "3                       7.0                 Positive  \n",
       "4                       0.0                  Neutral  \n",
       "...                     ...                      ...  \n",
       "5782                   -2.0                 Negative  \n",
       "5783                   -3.0                 Negative  \n",
       "5784                    3.0                 Positive  \n",
       "5785                    0.0                  Neutral  \n",
       "5786                    0.0                  Neutral  \n",
       "\n",
       "[5787 rows x 4 columns]"
      ]
     },
     "execution_count": 352,
     "metadata": {},
     "output_type": "execute_result"
    }
   ],
   "source": [
    "df1"
   ]
  },
  {
   "cell_type": "code",
   "execution_count": 356,
   "id": "255c2121",
   "metadata": {},
   "outputs": [
    {
     "data": {
      "text/plain": [
       "Positive    89.649214\n",
       "Neutral      5.961638\n",
       "Negative     4.389148\n",
       "Name: Sentiment category Afinn, dtype: float64"
      ]
     },
     "execution_count": 356,
     "metadata": {},
     "output_type": "execute_result"
    }
   ],
   "source": [
    "df1['Sentiment category Afinn'].value_counts(normalize=True)*100"
   ]
  },
  {
   "cell_type": "code",
   "execution_count": 353,
   "id": "274ffbe1",
   "metadata": {
    "scrolled": false
   },
   "outputs": [
    {
     "data": {
      "text/plain": [
       "<AxesSubplot:xlabel='Sentiment category Afinn', ylabel='count'>"
      ]
     },
     "execution_count": 353,
     "metadata": {},
     "output_type": "execute_result"
    },
    {
     "data": {
      "image/png": "[encoded data removed]",
      "text/plain": [
       "<Figure size 640x480 with 1 Axes>"
      ]
     },
     "metadata": {},
     "output_type": "display_data"
    }
   ],
   "source": [
    "sns.countplot(df1['Sentiment category Afinn'])"
   ]
  },
  {
   "cell_type": "markdown",
   "id": "398a3850",
   "metadata": {},
   "source": [
    "We can see from the above graph that most of the reviews which the movie has received are Positive followed by Neutral and Negative."
   ]
  },
  {
   "cell_type": "code",
   "execution_count": null,
   "id": "00907bc9",
   "metadata": {},
   "outputs": [],
   "source": [
    "#example of a negative sentiment review"
   ]
  },
  {
   "cell_type": "code",
   "execution_count": 377,
   "id": "6b8223d5",
   "metadata": {},
   "outputs": [
    {
     "data": {
      "text/html": [
       "<div>\n",
       "<style scoped>\n",
       "    .dataframe tbody tr th:only-of-type {\n",
       "        vertical-align: middle;\n",
       "    }\n",
       "\n",
       "    .dataframe tbody tr th {\n",
       "        vertical-align: top;\n",
       "    }\n",
       "\n",
       "    .dataframe thead th {\n",
       "        text-align: right;\n",
       "    }\n",
       "</style>\n",
       "<table border=\"1\" class=\"dataframe\">\n",
       "  <thead>\n",
       "    <tr style=\"text-align: right;\">\n",
       "      <th></th>\n",
       "      <th>221</th>\n",
       "    </tr>\n",
       "  </thead>\n",
       "  <tbody>\n",
       "    <tr>\n",
       "      <th>Reviews</th>\n",
       "      <td>The movie gives a WRONG MESSAGE in all possible ways. It fails to entertain in the last 1 hour and it's a complete torture sitting through the last 1 hour of the movie.The movie stops making any kind of sense in the Second half. The message is to separate from joint families because the girl is lying to break up. So the girl is not at fault for lying. Whatttttttt?? Seriously.The guy is still running after the girl even after knowing she cheated on him. Seriously again..Only the guys family has been concentrated upon. Nothing has been shown from the girls family side.Also the acting is as horrible as it gets. The supporting caste barring Dimple is horrible. Even the lead paid overacts all the time including the worst being Bassi.</td>\n",
       "    </tr>\n",
       "    <tr>\n",
       "      <th>clean_text</th>\n",
       "      <td>movie give wrong message possible way fail entertain last hour complete torture sit last hour movie movie stop make kind sense second half message separate joint family girl lie break girl not fault lie whatttttttt seriously guy still run girl even know cheat seriously guy family concentrate upon nothing show girl family side also acting horrible get support caste bar dimple horrible even lead pay overact time include bad bassi</td>\n",
       "    </tr>\n",
       "    <tr>\n",
       "      <th>Sentiment score Afinn</th>\n",
       "      <td>-18.0</td>\n",
       "    </tr>\n",
       "    <tr>\n",
       "      <th>Sentiment category Afinn</th>\n",
       "      <td>Negative</td>\n",
       "    </tr>\n",
       "  </tbody>\n",
       "</table>\n",
       "</div>"
      ],
      "text/plain": [
       "                                                                                                                                                                                                                                                                                                                                                                                                                                                                                                                                                                                                                                                                                                                                                                                         221\n",
       "Reviews                   The movie gives a WRONG MESSAGE in all possible ways. It fails to entertain in the last 1 hour and it's a complete torture sitting through the last 1 hour of the movie.The movie stops making any kind of sense in the Second half. The message is to separate from joint families because the girl is lying to break up. So the girl is not at fault for lying. Whatttttttt?? Seriously.The guy is still running after the girl even after knowing she cheated on him. Seriously again..Only the guys family has been concentrated upon. Nothing has been shown from the girls family side.Also the acting is as horrible as it gets. The supporting caste barring Dimple is horrible. Even the lead paid overacts all the time including the worst being Bassi.\n",
       "clean_text                                                                                                                                                                                                                                                                                                                                   movie give wrong message possible way fail entertain last hour complete torture sit last hour movie movie stop make kind sense second half message separate joint family girl lie break girl not fault lie whatttttttt seriously guy still run girl even know cheat seriously guy family concentrate upon nothing show girl family side also acting horrible get support caste bar dimple horrible even lead pay overact time include bad bassi\n",
       "Sentiment score Afinn                                                                                                                                                                                                                                                                                                                                                                                                                                                                                                                                                                                                                                                                                                                                                                  -18.0\n",
       "Sentiment category Afinn                                                                                                                                                                                                                                                                                                                                                                                                                                                                                                                                                                                                                                                                                                                                                            Negative"
      ]
     },
     "execution_count": 377,
     "metadata": {},
     "output_type": "execute_result"
    }
   ],
   "source": [
    "df1[df1['Sentiment score Afinn']==-18].iloc[0].to_frame()"
   ]
  },
  {
   "cell_type": "code",
   "execution_count": null,
   "id": "d91a48f1",
   "metadata": {},
   "outputs": [],
   "source": [
    "#example of a positive sentiment review"
   ]
  },
  {
   "cell_type": "code",
   "execution_count": 376,
   "id": "b16285e8",
   "metadata": {},
   "outputs": [
    {
     "data": {
      "text/html": [
       "<div>\n",
       "<style scoped>\n",
       "    .dataframe tbody tr th:only-of-type {\n",
       "        vertical-align: middle;\n",
       "    }\n",
       "\n",
       "    .dataframe tbody tr th {\n",
       "        vertical-align: top;\n",
       "    }\n",
       "\n",
       "    .dataframe thead th {\n",
       "        text-align: right;\n",
       "    }\n",
       "</style>\n",
       "<table border=\"1\" class=\"dataframe\">\n",
       "  <thead>\n",
       "    <tr style=\"text-align: right;\">\n",
       "      <th></th>\n",
       "      <th>2</th>\n",
       "    </tr>\n",
       "  </thead>\n",
       "  <tbody>\n",
       "    <tr>\n",
       "      <th>Reviews</th>\n",
       "      <td>Tu Jhoothi Main Makkar is two films in one, promoted as a third completely different one altogether. You walk in expecting a typical Luv Ranjan film with the twist of both of its lead characters being anti-heroes but get confronted by a Rab Ne Bana Di Jodi-esque love story coupled with family drama.The film shines the brightest during its comedy scenes (the FRIENDS finale inspired family banter in the car is the highlight of the film). The meta jokes land well. Bassi delivers one-liners like he did when he was at his peak as a standup comedian and while his own subplot in the film makes no sense, he chews whatever bite he's given well. The child actor, Inayat Verma, is the definition of chhota packet bada dhamaka. She plays her character with such ease and brilliance and hits both the punchlines and the slapstick comedy with such perfection, I became a fan. The supporting cast in general is fantastic. Shraddha, as always, looks gorgeous in the film and performs fairly until her shortcomings in the acting department get highlighted in scenes where she has to deliver purely through her expressions. This isn't anywhere close to Ranbir's best performance, in fact he puts his acting skills on the backburner, but apart from some scenes where he unnaturally breaks the fourth wall due to the director's insistence, he does fit in well.The film, however, tests your patience in emotional scenes in the second half, completely losing both its tonality and crowd pull. Attempts at using songs to pick up pace and audience interest fall flat in the last hour. The film picked up a pretty relevant topic in the second half but chose a convenient way out of it. I would've preferred the realistic ending they were going for until the U-turn that they took in the last 30 minutes but that wouldn't have had the commercial appeal that is needed to carry Bollywood films to the Hit verdict these days. The background score of the film is fantastic and it does have some catchy chartbusters too but it has one too many songs for its own good. The direction is pretty mediocre as is the writing but I walked in leaving my brain in the fridge at home so I was able to look past that.Overall, the film is a decent one-time watch constructed calculatively to make it flow with the masses and even if you aren't one of them you could enjoy it for its comedy.</td>\n",
       "    </tr>\n",
       "    <tr>\n",
       "      <th>clean_text</th>\n",
       "      <td>tu jhoothi main makkar two film one promote third completely different one altogether walk expect typical luv ranjan film twist lead character anti hero get confront rab ne bana di jodi esque love story couple family drama film shine bright comedy scene friend finale inspire family banter car highlight film meta joke land well bassi deliver one liner like peak standup comedian subplot film make no sense chew whatever bite give well child actor inayat verma definition chhota packet bada dhamaka play character ease brilliance hit punchline slapstick comedy perfection I become fan support cast general fantastic shraddha always look gorgeous film perform fairly shortcoming act department get highlight scene deliver purely expression not anywhere close ranbir good performance fact put acting skill backburner apart scene unnaturally break fourth wall due director insistence fit well film however test patience emotional scene second half completely lose tonality crowd pull attempt use song pick pace audience interest fall flat last hour film pick pretty relevant topic second half choose convenient way I would prefer realistic ending go u turn take last minute would not commercial appeal need carry bollywood film hit verdict day background score film fantastic catchy chartbuster one many song good direction pretty mediocre writing I walk leave brain fridge home I able look past overall film decent one time watch construct calculatively make flow masse even not one could enjoy comedy</td>\n",
       "    </tr>\n",
       "    <tr>\n",
       "      <th>Sentiment score Afinn</th>\n",
       "      <td>50.0</td>\n",
       "    </tr>\n",
       "    <tr>\n",
       "      <th>Sentiment category Afinn</th>\n",
       "      <td>Positive</td>\n",
       "    </tr>\n",
       "  </tbody>\n",
       "</table>\n",
       "</div>"
      ],
      "text/plain": [
       "                                                                                                                                                                                                                                                                                                                                                                                                                                                                                                                                                                                                                                                                                                                                                                                                                                                                                                                                                                                                                                                                                                                                                                                                                                                                                                                                                                                                                                                                                                                                                                                                                                                                                                                                                                                                                                                                                                                                                                                                                                                                                                                                                                                                                                                                                                                                                                                                                                                                             2\n",
       "Reviews                   Tu Jhoothi Main Makkar is two films in one, promoted as a third completely different one altogether. You walk in expecting a typical Luv Ranjan film with the twist of both of its lead characters being anti-heroes but get confronted by a Rab Ne Bana Di Jodi-esque love story coupled with family drama.The film shines the brightest during its comedy scenes (the FRIENDS finale inspired family banter in the car is the highlight of the film). The meta jokes land well. Bassi delivers one-liners like he did when he was at his peak as a standup comedian and while his own subplot in the film makes no sense, he chews whatever bite he's given well. The child actor, Inayat Verma, is the definition of chhota packet bada dhamaka. She plays her character with such ease and brilliance and hits both the punchlines and the slapstick comedy with such perfection, I became a fan. The supporting cast in general is fantastic. Shraddha, as always, looks gorgeous in the film and performs fairly until her shortcomings in the acting department get highlighted in scenes where she has to deliver purely through her expressions. This isn't anywhere close to Ranbir's best performance, in fact he puts his acting skills on the backburner, but apart from some scenes where he unnaturally breaks the fourth wall due to the director's insistence, he does fit in well.The film, however, tests your patience in emotional scenes in the second half, completely losing both its tonality and crowd pull. Attempts at using songs to pick up pace and audience interest fall flat in the last hour. The film picked up a pretty relevant topic in the second half but chose a convenient way out of it. I would've preferred the realistic ending they were going for until the U-turn that they took in the last 30 minutes but that wouldn't have had the commercial appeal that is needed to carry Bollywood films to the Hit verdict these days. The background score of the film is fantastic and it does have some catchy chartbusters too but it has one too many songs for its own good. The direction is pretty mediocre as is the writing but I walked in leaving my brain in the fridge at home so I was able to look past that.Overall, the film is a decent one-time watch constructed calculatively to make it flow with the masses and even if you aren't one of them you could enjoy it for its comedy.\n",
       "clean_text                                                                                                                                                                                                                                                                                                                                                                                                                                                                                                                                                                                                                                                                                                                                                                                                                                                                                                         tu jhoothi main makkar two film one promote third completely different one altogether walk expect typical luv ranjan film twist lead character anti hero get confront rab ne bana di jodi esque love story couple family drama film shine bright comedy scene friend finale inspire family banter car highlight film meta joke land well bassi deliver one liner like peak standup comedian subplot film make no sense chew whatever bite give well child actor inayat verma definition chhota packet bada dhamaka play character ease brilliance hit punchline slapstick comedy perfection I become fan support cast general fantastic shraddha always look gorgeous film perform fairly shortcoming act department get highlight scene deliver purely expression not anywhere close ranbir good performance fact put acting skill backburner apart scene unnaturally break fourth wall due director insistence fit well film however test patience emotional scene second half completely lose tonality crowd pull attempt use song pick pace audience interest fall flat last hour film pick pretty relevant topic second half choose convenient way I would prefer realistic ending go u turn take last minute would not commercial appeal need carry bollywood film hit verdict day background score film fantastic catchy chartbuster one many song good direction pretty mediocre writing I walk leave brain fridge home I able look past overall film decent one time watch construct calculatively make flow masse even not one could enjoy comedy\n",
       "Sentiment score Afinn                                                                                                                                                                                                                                                                                                                                                                                                                                                                                                                                                                                                                                                                                                                                                                                                                                                                                                                                                                                                                                                                                                                                                                                                                                                                                                                                                                                                                                                                                                                                                                                                                                                                                                                                                                                                                                                                                                                                                                                                                                                                                                                                                                                                                                                                                                                                                                                                                                                     50.0\n",
       "Sentiment category Afinn                                                                                                                                                                                                                                                                                                                                                                                                                                                                                                                                                                                                                                                                                                                                                                                                                                                                                                                                                                                                                                                                                                                                                                                                                                                                                                                                                                                                                                                                                                                                                                                                                                                                                                                                                                                                                                                                                                                                                                                                                                                                                                                                                                                                                                                                                                                                                                                                                                              Positive"
      ]
     },
     "execution_count": 376,
     "metadata": {},
     "output_type": "execute_result"
    }
   ],
   "source": [
    "df1[df1['Sentiment score Afinn']==+50].iloc[0].to_frame()"
   ]
  },
  {
   "cell_type": "code",
   "execution_count": null,
   "id": "1895f75c",
   "metadata": {},
   "outputs": [],
   "source": [
    "#example of a neutral sentiment review"
   ]
  },
  {
   "cell_type": "code",
   "execution_count": 380,
   "id": "dd23d6f5",
   "metadata": {},
   "outputs": [
    {
     "data": {
      "text/html": [
       "<div>\n",
       "<style scoped>\n",
       "    .dataframe tbody tr th:only-of-type {\n",
       "        vertical-align: middle;\n",
       "    }\n",
       "\n",
       "    .dataframe tbody tr th {\n",
       "        vertical-align: top;\n",
       "    }\n",
       "\n",
       "    .dataframe thead th {\n",
       "        text-align: right;\n",
       "    }\n",
       "</style>\n",
       "<table border=\"1\" class=\"dataframe\">\n",
       "  <thead>\n",
       "    <tr style=\"text-align: right;\">\n",
       "      <th></th>\n",
       "      <th>258</th>\n",
       "    </tr>\n",
       "  </thead>\n",
       "  <tbody>\n",
       "    <tr>\n",
       "      <th>Reviews</th>\n",
       "      <td>Completely baseless movie with a negative social message. Absurd Storyline.In today's context, where the flavors of joint family is missing, this movie is advocating somehow, the selfish intent to promote nuclear family.Except few funny moments, this movie has absolutely nothing more to offer.Overall acting from the star sons and star daughters is equally disappointing. Another reason to avoid Bollywood movie in the future...\\nIt's the high time that Bollywood look for some good storyline, good acting and good direction.I would prefer to watch again some good movie, one more time, rather than wasting the time for these hopeless and torturing movies.</td>\n",
       "    </tr>\n",
       "    <tr>\n",
       "      <th>clean_text</th>\n",
       "      <td>completely baseless movie negative social message absurd storyline today context flavor joint family miss movie advocate somehow selfish intent promote nuclear family except funny moment movie absolutely nothing offer overall act star son star daughter equally disappointing another reason avoid bollywood movie future high time bollywood look good storyline good acting good direction would prefer watch good movie one time rather waste time hopeless torture movie</td>\n",
       "    </tr>\n",
       "    <tr>\n",
       "      <th>Sentiment score Afinn</th>\n",
       "      <td>0.0</td>\n",
       "    </tr>\n",
       "    <tr>\n",
       "      <th>Sentiment category Afinn</th>\n",
       "      <td>Neutral</td>\n",
       "    </tr>\n",
       "  </tbody>\n",
       "</table>\n",
       "</div>"
      ],
      "text/plain": [
       "                                                                                                                                                                                                                                                                                                                                                                                                                                                                                                                                                                                                                                                                                                        258\n",
       "Reviews                   Completely baseless movie with a negative social message. Absurd Storyline.In today's context, where the flavors of joint family is missing, this movie is advocating somehow, the selfish intent to promote nuclear family.Except few funny moments, this movie has absolutely nothing more to offer.Overall acting from the star sons and star daughters is equally disappointing. Another reason to avoid Bollywood movie in the future...\\nIt's the high time that Bollywood look for some good storyline, good acting and good direction.I would prefer to watch again some good movie, one more time, rather than wasting the time for these hopeless and torturing movies.\n",
       "clean_text                                                                                                                                                                                                                completely baseless movie negative social message absurd storyline today context flavor joint family miss movie advocate somehow selfish intent promote nuclear family except funny moment movie absolutely nothing offer overall act star son star daughter equally disappointing another reason avoid bollywood movie future high time bollywood look good storyline good acting good direction would prefer watch good movie one time rather waste time hopeless torture movie\n",
       "Sentiment score Afinn                                                                                                                                                                                                                                                                                                                                                                                                                                                                                                                                                                                                                                                                                   0.0\n",
       "Sentiment category Afinn                                                                                                                                                                                                                                                                                                                                                                                                                                                                                                                                                                                                                                                                            Neutral"
      ]
     },
     "execution_count": 380,
     "metadata": {},
     "output_type": "execute_result"
    }
   ],
   "source": [
    "df1[df1['Sentiment score Afinn']==0].iloc[3].to_frame()"
   ]
  },
  {
   "cell_type": "markdown",
   "id": "97c5112c",
   "metadata": {},
   "source": [
    "Method 2-Using Textblob"
   ]
  },
  {
   "cell_type": "code",
   "execution_count": 381,
   "id": "ced40a28",
   "metadata": {},
   "outputs": [],
   "source": [
    "from textblob import TextBlob"
   ]
  },
  {
   "cell_type": "code",
   "execution_count": 386,
   "id": "fdc79081",
   "metadata": {},
   "outputs": [],
   "source": [
    "sentiment_score_tb=[round(TextBlob(article).sentiment.polarity,3) for article in df['clean_text']]"
   ]
  },
  {
   "cell_type": "code",
   "execution_count": 384,
   "id": "6b7e2248",
   "metadata": {},
   "outputs": [],
   "source": [
    "sentiment_category_tb=['Positive' if score>0 else 'Negative' if score<0 else 'Neutral' for score in sentiment_score_tb]"
   ]
  },
  {
   "cell_type": "code",
   "execution_count": 389,
   "id": "36f8a475",
   "metadata": {},
   "outputs": [],
   "source": [
    "df1['Sentiment score TextBlob']=sentiment_score_tb\n",
    "df1['Sentiment category TextBlob']=sentiment_category_tb"
   ]
  },
  {
   "cell_type": "code",
   "execution_count": 431,
   "id": "9608bb77",
   "metadata": {
    "scrolled": false
   },
   "outputs": [
    {
     "data": {
      "text/html": [
       "<div>\n",
       "<style scoped>\n",
       "    .dataframe tbody tr th:only-of-type {\n",
       "        vertical-align: middle;\n",
       "    }\n",
       "\n",
       "    .dataframe tbody tr th {\n",
       "        vertical-align: top;\n",
       "    }\n",
       "\n",
       "    .dataframe thead th {\n",
       "        text-align: right;\n",
       "    }\n",
       "</style>\n",
       "<table border=\"1\" class=\"dataframe\">\n",
       "  <thead>\n",
       "    <tr style=\"text-align: right;\">\n",
       "      <th></th>\n",
       "      <th>Reviews</th>\n",
       "      <th>clean_text</th>\n",
       "      <th>Sentiment score Afinn</th>\n",
       "      <th>Sentiment category Afinn</th>\n",
       "      <th>Sentiment score TextBlob</th>\n",
       "      <th>Sentiment category TextBlob</th>\n",
       "    </tr>\n",
       "  </thead>\n",
       "  <tbody>\n",
       "    <tr>\n",
       "      <th>0</th>\n",
       "      <td>\"Tu Jhoothi Main Makkaar\" is a film that promi...</td>\n",
       "      <td>tu jhoothi main makkaar film promise lot talen...</td>\n",
       "      <td>-15.0</td>\n",
       "      <td>Negative</td>\n",
       "      <td>-0.032</td>\n",
       "      <td>Negative</td>\n",
       "    </tr>\n",
       "    <tr>\n",
       "      <th>1</th>\n",
       "      <td>If this is entertaining or romantic, then I do...</td>\n",
       "      <td>entertaining romantic I not know manmarziyan t...</td>\n",
       "      <td>-12.0</td>\n",
       "      <td>Negative</td>\n",
       "      <td>-0.029</td>\n",
       "      <td>Negative</td>\n",
       "    </tr>\n",
       "    <tr>\n",
       "      <th>2</th>\n",
       "      <td>Tu Jhoothi Main Makkar is two films in one, pr...</td>\n",
       "      <td>tu jhoothi main makkar two film one promote th...</td>\n",
       "      <td>50.0</td>\n",
       "      <td>Positive</td>\n",
       "      <td>0.179</td>\n",
       "      <td>Positive</td>\n",
       "    </tr>\n",
       "    <tr>\n",
       "      <th>3</th>\n",
       "      <td>Firstly the storyline shown in trailer is abso...</td>\n",
       "      <td>firstly storyline show trailer absolutely fals...</td>\n",
       "      <td>7.0</td>\n",
       "      <td>Positive</td>\n",
       "      <td>-0.031</td>\n",
       "      <td>Negative</td>\n",
       "    </tr>\n",
       "    <tr>\n",
       "      <th>4</th>\n",
       "      <td>Again a bakwas content. Same again monkey bala...</td>\n",
       "      <td>bakwas content monkey balance b w poisonous fe...</td>\n",
       "      <td>0.0</td>\n",
       "      <td>Neutral</td>\n",
       "      <td>0.147</td>\n",
       "      <td>Positive</td>\n",
       "    </tr>\n",
       "    <tr>\n",
       "      <th>...</th>\n",
       "      <td>...</td>\n",
       "      <td>...</td>\n",
       "      <td>...</td>\n",
       "      <td>...</td>\n",
       "      <td>...</td>\n",
       "      <td>...</td>\n",
       "    </tr>\n",
       "    <tr>\n",
       "      <th>5782</th>\n",
       "      <td>useless Movie and screenplay</td>\n",
       "      <td>useless movie screenplay</td>\n",
       "      <td>-2.0</td>\n",
       "      <td>Negative</td>\n",
       "      <td>-0.500</td>\n",
       "      <td>Negative</td>\n",
       "    </tr>\n",
       "    <tr>\n",
       "      <th>5783</th>\n",
       "      <td>Green screen was so obvious and a lot of scene...</td>\n",
       "      <td>green screen obvious lot scene look fake</td>\n",
       "      <td>-3.0</td>\n",
       "      <td>Negative</td>\n",
       "      <td>-0.233</td>\n",
       "      <td>Negative</td>\n",
       "    </tr>\n",
       "    <tr>\n",
       "      <th>5784</th>\n",
       "      <td>Luv Ranjan and his way of presenting love from...</td>\n",
       "      <td>luv ranjan way present love different viewpoint</td>\n",
       "      <td>3.0</td>\n",
       "      <td>Positive</td>\n",
       "      <td>0.167</td>\n",
       "      <td>Positive</td>\n",
       "    </tr>\n",
       "    <tr>\n",
       "      <th>5785</th>\n",
       "      <td>For all romcom lovers</td>\n",
       "      <td>romcom lover</td>\n",
       "      <td>0.0</td>\n",
       "      <td>Neutral</td>\n",
       "      <td>0.000</td>\n",
       "      <td>Neutral</td>\n",
       "    </tr>\n",
       "    <tr>\n",
       "      <th>5786</th>\n",
       "      <td>After a long time unique dailouges in a Bollyw...</td>\n",
       "      <td>long time unique dailouge bollywood movie movi...</td>\n",
       "      <td>0.0</td>\n",
       "      <td>Neutral</td>\n",
       "      <td>0.163</td>\n",
       "      <td>Positive</td>\n",
       "    </tr>\n",
       "  </tbody>\n",
       "</table>\n",
       "<p>5787 rows × 6 columns</p>\n",
       "</div>"
      ],
      "text/plain": [
       "                                                Reviews  \\\n",
       "0     \"Tu Jhoothi Main Makkaar\" is a film that promi...   \n",
       "1     If this is entertaining or romantic, then I do...   \n",
       "2     Tu Jhoothi Main Makkar is two films in one, pr...   \n",
       "3     Firstly the storyline shown in trailer is abso...   \n",
       "4     Again a bakwas content. Same again monkey bala...   \n",
       "...                                                 ...   \n",
       "5782                       useless Movie and screenplay   \n",
       "5783  Green screen was so obvious and a lot of scene...   \n",
       "5784  Luv Ranjan and his way of presenting love from...   \n",
       "5785                              For all romcom lovers   \n",
       "5786  After a long time unique dailouges in a Bollyw...   \n",
       "\n",
       "                                             clean_text  \\\n",
       "0     tu jhoothi main makkaar film promise lot talen...   \n",
       "1     entertaining romantic I not know manmarziyan t...   \n",
       "2     tu jhoothi main makkar two film one promote th...   \n",
       "3     firstly storyline show trailer absolutely fals...   \n",
       "4     bakwas content monkey balance b w poisonous fe...   \n",
       "...                                                 ...   \n",
       "5782                           useless movie screenplay   \n",
       "5783           green screen obvious lot scene look fake   \n",
       "5784    luv ranjan way present love different viewpoint   \n",
       "5785                                       romcom lover   \n",
       "5786  long time unique dailouge bollywood movie movi...   \n",
       "\n",
       "      Sentiment score Afinn Sentiment category Afinn  \\\n",
       "0                     -15.0                 Negative   \n",
       "1                     -12.0                 Negative   \n",
       "2                      50.0                 Positive   \n",
       "3                       7.0                 Positive   \n",
       "4                       0.0                  Neutral   \n",
       "...                     ...                      ...   \n",
       "5782                   -2.0                 Negative   \n",
       "5783                   -3.0                 Negative   \n",
       "5784                    3.0                 Positive   \n",
       "5785                    0.0                  Neutral   \n",
       "5786                    0.0                  Neutral   \n",
       "\n",
       "      Sentiment score TextBlob Sentiment category TextBlob  \n",
       "0                       -0.032                    Negative  \n",
       "1                       -0.029                    Negative  \n",
       "2                        0.179                    Positive  \n",
       "3                       -0.031                    Negative  \n",
       "4                        0.147                    Positive  \n",
       "...                        ...                         ...  \n",
       "5782                    -0.500                    Negative  \n",
       "5783                    -0.233                    Negative  \n",
       "5784                     0.167                    Positive  \n",
       "5785                     0.000                     Neutral  \n",
       "5786                     0.163                    Positive  \n",
       "\n",
       "[5787 rows x 6 columns]"
      ]
     },
     "execution_count": 431,
     "metadata": {},
     "output_type": "execute_result"
    }
   ],
   "source": [
    "df1"
   ]
  },
  {
   "cell_type": "code",
   "execution_count": 391,
   "id": "ab6b3ba2",
   "metadata": {},
   "outputs": [
    {
     "data": {
      "text/plain": [
       "Positive    89.320892\n",
       "Neutral      5.978918\n",
       "Negative     4.700190\n",
       "Name: Sentiment category TextBlob, dtype: float64"
      ]
     },
     "execution_count": 391,
     "metadata": {},
     "output_type": "execute_result"
    }
   ],
   "source": [
    "df1['Sentiment category TextBlob'].value_counts(normalize=True)*100"
   ]
  },
  {
   "cell_type": "code",
   "execution_count": 392,
   "id": "6ca9f7e4",
   "metadata": {},
   "outputs": [
    {
     "data": {
      "text/plain": [
       "<AxesSubplot:xlabel='Sentiment category TextBlob', ylabel='count'>"
      ]
     },
     "execution_count": 392,
     "metadata": {},
     "output_type": "execute_result"
    },
    {
     "data": {
      "image/png": "[encoded data removed]",
      "text/plain": [
       "<Figure size 640x480 with 1 Axes>"
      ]
     },
     "metadata": {},
     "output_type": "display_data"
    }
   ],
   "source": [
    "sns.countplot(df1['Sentiment category TextBlob'])"
   ]
  },
  {
   "cell_type": "markdown",
   "id": "fcf1e473",
   "metadata": {},
   "source": [
    "We can see from the above graph that most of the reviews which the movie has received are Positive followed by Neutral and Negative."
   ]
  },
  {
   "cell_type": "code",
   "execution_count": null,
   "id": "c7e74b3a",
   "metadata": {},
   "outputs": [],
   "source": [
    "#example of a positive review"
   ]
  },
  {
   "cell_type": "code",
   "execution_count": 393,
   "id": "7464b45d",
   "metadata": {},
   "outputs": [
    {
     "data": {
      "text/html": [
       "<div>\n",
       "<style scoped>\n",
       "    .dataframe tbody tr th:only-of-type {\n",
       "        vertical-align: middle;\n",
       "    }\n",
       "\n",
       "    .dataframe tbody tr th {\n",
       "        vertical-align: top;\n",
       "    }\n",
       "\n",
       "    .dataframe thead th {\n",
       "        text-align: right;\n",
       "    }\n",
       "</style>\n",
       "<table border=\"1\" class=\"dataframe\">\n",
       "  <thead>\n",
       "    <tr style=\"text-align: right;\">\n",
       "      <th></th>\n",
       "      <th>58</th>\n",
       "    </tr>\n",
       "  </thead>\n",
       "  <tbody>\n",
       "    <tr>\n",
       "      <th>Reviews</th>\n",
       "      <td>A fantastic cast and a fantastic script by Luv Ranjan and Rahul Mody. Ranbir and Shraddha Kapoor are the best choices for this job. Even without a fresh version, Ranbir and Shraddha have incredible chemistry, and the songs are fantastic. The notion is quite novel, with humor and a family film thrown in for good measure. This film deserves to be praised for its romance and wit. And YESS SHRADDHA'S RETURN AFTER THREE YEARS, the girl's dancing steals the stage, and Ranbir is the perfect pick. The Shraddha Ranbir Chemistry uff on top of Bassi's best acting was achieved. Paisa Vasul is a film. I adore this film, and it is flawless in every way.</td>\n",
       "    </tr>\n",
       "    <tr>\n",
       "      <th>clean_text</th>\n",
       "      <td>fantastic cast fantastic script luv ranjan rahul mody ranbir shraddha kapoor good choice job even without fresh version ranbir shraddha incredible chemistry song fantastic notion quite novel humor family film throw good measure film deserve praise romance wit yess shraddha return three year girl dancing steal stage ranbir perfect pick shraddha ranbir chemistry uff top bassi good acting achieve paisa vasul film I adore film flawless every way</td>\n",
       "    </tr>\n",
       "    <tr>\n",
       "      <th>Sentiment score Afinn</th>\n",
       "      <td>39.0</td>\n",
       "    </tr>\n",
       "    <tr>\n",
       "      <th>Sentiment category Afinn</th>\n",
       "      <td>Positive</td>\n",
       "    </tr>\n",
       "    <tr>\n",
       "      <th>Sentiment score TextBlob</th>\n",
       "      <td>0.583</td>\n",
       "    </tr>\n",
       "    <tr>\n",
       "      <th>Sentiment category TextBlob</th>\n",
       "      <td>Positive</td>\n",
       "    </tr>\n",
       "  </tbody>\n",
       "</table>\n",
       "</div>"
      ],
      "text/plain": [
       "                                                                                                                                                                                                                                                                                                                                                                                                                                                                                                                                                                                                                                                                                                  58\n",
       "Reviews                      A fantastic cast and a fantastic script by Luv Ranjan and Rahul Mody. Ranbir and Shraddha Kapoor are the best choices for this job. Even without a fresh version, Ranbir and Shraddha have incredible chemistry, and the songs are fantastic. The notion is quite novel, with humor and a family film thrown in for good measure. This film deserves to be praised for its romance and wit. And YESS SHRADDHA'S RETURN AFTER THREE YEARS, the girl's dancing steals the stage, and Ranbir is the perfect pick. The Shraddha Ranbir Chemistry uff on top of Bassi's best acting was achieved. Paisa Vasul is a film. I adore this film, and it is flawless in every way.\n",
       "clean_text                                                                                                                                                                                                                             fantastic cast fantastic script luv ranjan rahul mody ranbir shraddha kapoor good choice job even without fresh version ranbir shraddha incredible chemistry song fantastic notion quite novel humor family film throw good measure film deserve praise romance wit yess shraddha return three year girl dancing steal stage ranbir perfect pick shraddha ranbir chemistry uff top bassi good acting achieve paisa vasul film I adore film flawless every way\n",
       "Sentiment score Afinn                                                                                                                                                                                                                                                                                                                                                                                                                                                                                                                                                                                                                                                                           39.0\n",
       "Sentiment category Afinn                                                                                                                                                                                                                                                                                                                                                                                                                                                                                                                                                                                                                                                                    Positive\n",
       "Sentiment score TextBlob                                                                                                                                                                                                                                                                                                                                                                                                                                                                                                                                                                                                                                                                       0.583\n",
       "Sentiment category TextBlob                                                                                                                                                                                                                                                                                                                                                                                                                                                                                                                                                                                                                                                                 Positive"
      ]
     },
     "execution_count": 393,
     "metadata": {},
     "output_type": "execute_result"
    }
   ],
   "source": [
    "df1[df1['Sentiment score TextBlob']>0.5].iloc[0].to_frame()"
   ]
  },
  {
   "cell_type": "code",
   "execution_count": null,
   "id": "15ba3a08",
   "metadata": {},
   "outputs": [],
   "source": [
    "#example of a negative review"
   ]
  },
  {
   "cell_type": "code",
   "execution_count": 396,
   "id": "0905e7aa",
   "metadata": {},
   "outputs": [
    {
     "data": {
      "text/html": [
       "<div>\n",
       "<style scoped>\n",
       "    .dataframe tbody tr th:only-of-type {\n",
       "        vertical-align: middle;\n",
       "    }\n",
       "\n",
       "    .dataframe tbody tr th {\n",
       "        vertical-align: top;\n",
       "    }\n",
       "\n",
       "    .dataframe thead th {\n",
       "        text-align: right;\n",
       "    }\n",
       "</style>\n",
       "<table border=\"1\" class=\"dataframe\">\n",
       "  <thead>\n",
       "    <tr style=\"text-align: right;\">\n",
       "      <th></th>\n",
       "      <th>2506</th>\n",
       "    </tr>\n",
       "  </thead>\n",
       "  <tbody>\n",
       "    <tr>\n",
       "      <th>Reviews</th>\n",
       "      <td>Just came here to see the reviews (after watching movie) and was shocked to see some people have given 5 stars. \\n\\nI have'nt seen more rediculous movie in my entire life. Film is maha boring, over streached, bad editing. \\n\\n2+ hours of my life got wasted while watching it. \\n\\nIt deserves 0 stars.</td>\n",
       "    </tr>\n",
       "    <tr>\n",
       "      <th>clean_text</th>\n",
       "      <td>come see review watch movie shocked see people give star I havent see rediculous movie entire life film maha boring streache bad editing hour life got waste watch deserve star</td>\n",
       "    </tr>\n",
       "    <tr>\n",
       "      <th>Sentiment score Afinn</th>\n",
       "      <td>-9.0</td>\n",
       "    </tr>\n",
       "    <tr>\n",
       "      <th>Sentiment category Afinn</th>\n",
       "      <td>Negative</td>\n",
       "    </tr>\n",
       "    <tr>\n",
       "      <th>Sentiment score TextBlob</th>\n",
       "      <td>-0.52</td>\n",
       "    </tr>\n",
       "    <tr>\n",
       "      <th>Sentiment category TextBlob</th>\n",
       "      <td>Negative</td>\n",
       "    </tr>\n",
       "  </tbody>\n",
       "</table>\n",
       "</div>"
      ],
      "text/plain": [
       "                                                                                                                                                                                                                                                                                                                                     2506\n",
       "Reviews                      Just came here to see the reviews (after watching movie) and was shocked to see some people have given 5 stars. \\n\\nI have'nt seen more rediculous movie in my entire life. Film is maha boring, over streached, bad editing. \\n\\n2+ hours of my life got wasted while watching it. \\n\\nIt deserves 0 stars.\n",
       "clean_text                                                                                                                                                come see review watch movie shocked see people give star I havent see rediculous movie entire life film maha boring streache bad editing hour life got waste watch deserve star\n",
       "Sentiment score Afinn                                                                                                                                                                                                                                                                                                                -9.0\n",
       "Sentiment category Afinn                                                                                                                                                                                                                                                                                                         Negative\n",
       "Sentiment score TextBlob                                                                                                                                                                                                                                                                                                            -0.52\n",
       "Sentiment category TextBlob                                                                                                                                                                                                                                                                                                      Negative"
      ]
     },
     "execution_count": 396,
     "metadata": {},
     "output_type": "execute_result"
    }
   ],
   "source": [
    "df1[df1['Sentiment score TextBlob']<-0.5].iloc[2].to_frame()"
   ]
  },
  {
   "cell_type": "code",
   "execution_count": null,
   "id": "4a53347e",
   "metadata": {},
   "outputs": [],
   "source": [
    "#example of a neutral review"
   ]
  },
  {
   "cell_type": "code",
   "execution_count": 398,
   "id": "0a5c86ad",
   "metadata": {},
   "outputs": [
    {
     "data": {
      "text/html": [
       "<div>\n",
       "<style scoped>\n",
       "    .dataframe tbody tr th:only-of-type {\n",
       "        vertical-align: middle;\n",
       "    }\n",
       "\n",
       "    .dataframe tbody tr th {\n",
       "        vertical-align: top;\n",
       "    }\n",
       "\n",
       "    .dataframe thead th {\n",
       "        text-align: right;\n",
       "    }\n",
       "</style>\n",
       "<table border=\"1\" class=\"dataframe\">\n",
       "  <thead>\n",
       "    <tr style=\"text-align: right;\">\n",
       "      <th></th>\n",
       "      <th>5785</th>\n",
       "    </tr>\n",
       "  </thead>\n",
       "  <tbody>\n",
       "    <tr>\n",
       "      <th>Reviews</th>\n",
       "      <td>For all romcom lovers</td>\n",
       "    </tr>\n",
       "    <tr>\n",
       "      <th>clean_text</th>\n",
       "      <td>romcom lover</td>\n",
       "    </tr>\n",
       "    <tr>\n",
       "      <th>Sentiment score Afinn</th>\n",
       "      <td>0.0</td>\n",
       "    </tr>\n",
       "    <tr>\n",
       "      <th>Sentiment category Afinn</th>\n",
       "      <td>Neutral</td>\n",
       "    </tr>\n",
       "    <tr>\n",
       "      <th>Sentiment score TextBlob</th>\n",
       "      <td>0.0</td>\n",
       "    </tr>\n",
       "    <tr>\n",
       "      <th>Sentiment category TextBlob</th>\n",
       "      <td>Neutral</td>\n",
       "    </tr>\n",
       "  </tbody>\n",
       "</table>\n",
       "</div>"
      ],
      "text/plain": [
       "                                              5785\n",
       "Reviews                      For all romcom lovers\n",
       "clean_text                            romcom lover\n",
       "Sentiment score Afinn                          0.0\n",
       "Sentiment category Afinn                   Neutral\n",
       "Sentiment score TextBlob                       0.0\n",
       "Sentiment category TextBlob                Neutral"
      ]
     },
     "execution_count": 398,
     "metadata": {},
     "output_type": "execute_result"
    }
   ],
   "source": [
    "df1[df1['Sentiment score TextBlob']==0].iloc[-1].to_frame()"
   ]
  },
  {
   "cell_type": "markdown",
   "id": "c6eef15f",
   "metadata": {},
   "source": [
    "# Conclusion:- From the textblob sentimental analysis we can conclude that 89.32% of the reviews which the movie received are positive,5.97% are neutral and 4.7% reviews are negative.Hence the overall response which the movie has received from the audience is positive.\n",
    "# The analytics conducted in this project matches the actual ratings of the movie received from the audience."
   ]
  },
  {
   "cell_type": "code",
   "execution_count": null,
   "id": "c1f94309",
   "metadata": {},
   "outputs": [],
   "source": []
  },
  {
   "cell_type": "code",
   "execution_count": null,
   "id": "24780192",
   "metadata": {},
   "outputs": [],
   "source": []
  },
  {
   "cell_type": "code",
   "execution_count": null,
   "id": "b18a6c84",
   "metadata": {},
   "outputs": [],
   "source": []
  },
  {
   "cell_type": "code",
   "execution_count": null,
   "id": "cdf4a7f1",
   "metadata": {},
   "outputs": [],
   "source": []
  },
  {
   "cell_type": "code",
   "execution_count": null,
   "id": "c53c03cc",
   "metadata": {},
   "outputs": [],
   "source": []
  },
  {
   "cell_type": "code",
   "execution_count": null,
   "id": "d25cf1e0",
   "metadata": {},
   "outputs": [],
   "source": []
  },
  {
   "cell_type": "code",
   "execution_count": null,
   "id": "690da488",
   "metadata": {},
   "outputs": [],
   "source": []
  },
  {
   "cell_type": "code",
   "execution_count": null,
   "id": "f0f81792",
   "metadata": {},
   "outputs": [],
   "source": []
  },
  {
   "cell_type": "code",
   "execution_count": null,
   "id": "607882dd",
   "metadata": {},
   "outputs": [],
   "source": []
  },
  {
   "cell_type": "code",
   "execution_count": null,
   "id": "7736f798",
   "metadata": {},
   "outputs": [],
   "source": []
  },
  {
   "cell_type": "code",
   "execution_count": null,
   "id": "619940a9",
   "metadata": {},
   "outputs": [],
   "source": []
  },
  {
   "cell_type": "code",
   "execution_count": null,
   "id": "a1c2cc0e",
   "metadata": {},
   "outputs": [],
   "source": []
  },
  {
   "cell_type": "code",
   "execution_count": null,
   "id": "49ea8eae",
   "metadata": {},
   "outputs": [],
   "source": []
  },
  {
   "cell_type": "code",
   "execution_count": null,
   "id": "47987cbf",
   "metadata": {},
   "outputs": [],
   "source": []
  },
  {
   "cell_type": "code",
   "execution_count": null,
   "id": "0be7564c",
   "metadata": {},
   "outputs": [],
   "source": []
  },
  {
   "cell_type": "code",
   "execution_count": null,
   "id": "44176dc2",
   "metadata": {},
   "outputs": [],
   "source": []
  },
  {
   "cell_type": "code",
   "execution_count": null,
   "id": "00ce0f77",
   "metadata": {},
   "outputs": [],
   "source": []
  },
  {
   "cell_type": "code",
   "execution_count": null,
   "id": "b79be609",
   "metadata": {},
   "outputs": [],
   "source": []
  },
  {
   "cell_type": "code",
   "execution_count": null,
   "id": "e5e77a05",
   "metadata": {},
   "outputs": [],
   "source": []
  },
  {
   "cell_type": "code",
   "execution_count": null,
   "id": "f3681304",
   "metadata": {},
   "outputs": [],
   "source": []
  },
  {
   "cell_type": "code",
   "execution_count": null,
   "id": "316a4a7c",
   "metadata": {},
   "outputs": [],
   "source": []
  },
  {
   "cell_type": "code",
   "execution_count": null,
   "id": "cf7071f7",
   "metadata": {},
   "outputs": [],
   "source": []
  },
  {
   "cell_type": "code",
   "execution_count": null,
   "id": "4e13d1d5",
   "metadata": {},
   "outputs": [],
   "source": []
  },
  {
   "cell_type": "code",
   "execution_count": null,
   "id": "ba970133",
   "metadata": {},
   "outputs": [],
   "source": []
  },
  {
   "cell_type": "code",
   "execution_count": null,
   "id": "8768e00e",
   "metadata": {},
   "outputs": [],
   "source": []
  },
  {
   "cell_type": "code",
   "execution_count": null,
   "id": "51f0e106",
   "metadata": {},
   "outputs": [],
   "source": []
  },
  {
   "cell_type": "code",
   "execution_count": null,
   "id": "54f8111f",
   "metadata": {},
   "outputs": [],
   "source": []
  },
  {
   "cell_type": "code",
   "execution_count": null,
   "id": "58881757",
   "metadata": {},
   "outputs": [],
   "source": []
  },
  {
   "cell_type": "code",
   "execution_count": null,
   "id": "49888dc7",
   "metadata": {},
   "outputs": [],
   "source": []
  },
  {
   "cell_type": "code",
   "execution_count": null,
   "id": "b02f846f",
   "metadata": {},
   "outputs": [],
   "source": []
  },
  {
   "cell_type": "code",
   "execution_count": null,
   "id": "ae1aae04",
   "metadata": {},
   "outputs": [],
   "source": []
  },
  {
   "cell_type": "code",
   "execution_count": null,
   "id": "5ff7f933",
   "metadata": {},
   "outputs": [],
   "source": []
  },
  {
   "cell_type": "code",
   "execution_count": null,
   "id": "de7e6d76",
   "metadata": {},
   "outputs": [],
   "source": []
  },
  {
   "cell_type": "code",
   "execution_count": null,
   "id": "496d90d4",
   "metadata": {},
   "outputs": [],
   "source": []
  },
  {
   "cell_type": "code",
   "execution_count": null,
   "id": "15b7e917",
   "metadata": {},
   "outputs": [],
   "source": []
  },
  {
   "cell_type": "code",
   "execution_count": null,
   "id": "2fe48878",
   "metadata": {},
   "outputs": [],
   "source": []
  },
  {
   "cell_type": "code",
   "execution_count": null,
   "id": "26637384",
   "metadata": {},
   "outputs": [],
   "source": []
  }
 ],
 "metadata": {
  "kernelspec": {
   "display_name": "Python 3 (ipykernel)",
   "language": "python",
   "name": "python3"
  },
  "language_info": {
   "codemirror_mode": {
    "name": "ipython",
    "version": 3
   },
   "file_extension": ".py",
   "mimetype": "text/x-python",
   "name": "python",
   "nbconvert_exporter": "python",
   "pygments_lexer": "ipython3",
   "version": "3.9.13"
  }
 },
 "nbformat": 4,
 "nbformat_minor": 5
}
